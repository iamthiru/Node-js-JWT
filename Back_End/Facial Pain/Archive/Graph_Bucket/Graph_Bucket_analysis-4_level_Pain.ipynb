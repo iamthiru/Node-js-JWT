{
 "cells": [
  {
   "cell_type": "code",
   "execution_count": 22,
   "metadata": {},
   "outputs": [],
   "source": [
    "import pandas as pd\n",
    "import os\n",
    "import numpy as np\n",
    "import matplotlib.pyplot as plt"
   ]
  },
  {
   "cell_type": "code",
   "execution_count": 23,
   "metadata": {},
   "outputs": [
    {
     "data": {
      "text/plain": [
       "0      5.20\n",
       "1      5.51\n",
       "2      5.49\n",
       "3      5.40\n",
       "4      5.60\n",
       "       ... \n",
       "746    3.92\n",
       "747    4.38\n",
       "748    5.44\n",
       "749    6.03\n",
       "750    6.85\n",
       "Name: SUM_AU_r, Length: 751, dtype: float64"
      ]
     },
     "execution_count": 23,
     "metadata": {},
     "output_type": "execute_result"
    }
   ],
   "source": [
    "df = pd.read_csv(r\"C:\\Users\\Nischal\\Desktop\\BioVid_data_processing\\Graph\\sample.csv\")\n",
    "a=df[\"SUM_AU_r\"]\n",
    "a"
   ]
  },
  {
   "cell_type": "code",
   "execution_count": 24,
   "metadata": {},
   "outputs": [],
   "source": [
    "AU_sum=a\n"
   ]
  },
  {
   "cell_type": "code",
   "execution_count": 25,
   "metadata": {},
   "outputs": [
    {
     "data": {
      "text/plain": [
       "6.039623059866962"
      ]
     },
     "execution_count": 25,
     "metadata": {},
     "output_type": "execute_result"
    }
   ],
   "source": [
    "b=a[300:]\n",
    "b.mean()"
   ]
  },
  {
   "cell_type": "markdown",
   "metadata": {},
   "source": [
    "Pain 1 Upper: 6.858448655155239\n",
    "Pain 2 Upper: 7.511978468639286\n",
    "Pain 3 Upper: 9.5308146345487535\n",
    "Pain 4 Upper:"
   ]
  },
  {
   "cell_type": "code",
   "execution_count": 26,
   "metadata": {},
   "outputs": [],
   "source": [
    "no_pain_UL= 5.55\n",
    "pain_1_UL= 6.858448655155239\n",
    "pain_2_UL= 7.511978468639286\n",
    "pain_3_UL= 9.5308146345487535\n",
    "\n",
    "\n",
    "\n",
    "def Pain_labeler(x_data, num_steps=100):\n",
    "    \"\"\" Sliding window for calculating pain levels \"\"\"\n",
    "    # Prepare the list for the transformed data\n",
    "\n",
    "    start_ix=0\n",
    "    end_ix=num_steps\n",
    "    \n",
    "    Word_Label=[]\n",
    "    \n",
    "    # For the first sequence of frames: ########################################\n",
    "    seq_X = x_data[start_ix:end_ix]\n",
    "    one_second_value=seq_X.mean()\n",
    "    \n",
    "    if one_second_value<= no_pain_UL:\n",
    "        Word_Label.append(\"No Pain\")\n",
    "    elif one_second_value >no_pain_UL and one_second_value<pain_1_UL:\n",
    "        Word_Label.append(\"Pain Level 1\")\n",
    "    elif one_second_value >pain_1_UL and one_second_value<pain_2_UL:\n",
    "        Word_Label.append(\"Pain Level 2\")\n",
    "    elif one_second_value >pain_2_UL and one_second_value<pain_3_UL:\n",
    "        Word_Label.append(\"Pain Level 3\")\n",
    "    elif one_second_value >pain_3_UL:\n",
    "        Word_Label.append(\"Pain Level 4\")    \n",
    "    ############################################################################\n",
    "\n",
    "    # Loop of the entire data set (apart from the first sequence)\n",
    "    for i in range(x_data.shape[0]):\n",
    "        # compute a new (sliding window) index\n",
    "        start_ix= start_ix + num_steps\n",
    "        end_ix = end_ix + num_steps\n",
    "        # if index is larger than the size of the dataset, we stop\n",
    "        if end_ix >= x_data.shape[0]:\n",
    "            break\n",
    "        # Get a sequence of data for x\n",
    "        seq_X = x_data[start_ix:end_ix]\n",
    "        one_second_value=seq_X.mean()\n",
    "        if one_second_value<= no_pain_UL:\n",
    "            Word_Label.append(\"No Pain\")\n",
    "        elif one_second_value >no_pain_UL and one_second_value<pain_1_UL:\n",
    "            Word_Label.append(\"Pain Level 1\")\n",
    "        elif one_second_value >pain_1_UL and one_second_value<pain_2_UL:\n",
    "            Word_Label.append(\"Pain Level 2\")\n",
    "        elif one_second_value >pain_2_UL and one_second_value<pain_3_UL:\n",
    "            Word_Label.append(\"Pain Level 3\")\n",
    "        elif one_second_value >pain_3_UL:\n",
    "            Word_Label.append(\"Pain Level 4\") \n",
    "\n",
    "    return Word_Label"
   ]
  },
  {
   "cell_type": "code",
   "execution_count": 27,
   "metadata": {},
   "outputs": [],
   "source": [
    "file=Pain_labeler(a)"
   ]
  },
  {
   "cell_type": "code",
   "execution_count": 28,
   "metadata": {},
   "outputs": [
    {
     "data": {
      "text/plain": [
       "['Pain Level 4',\n",
       " 'Pain Level 4',\n",
       " 'Pain Level 4',\n",
       " 'Pain Level 2',\n",
       " 'Pain Level 1',\n",
       " 'Pain Level 1',\n",
       " 'No Pain']"
      ]
     },
     "execution_count": 28,
     "metadata": {},
     "output_type": "execute_result"
    }
   ],
   "source": [
    "file"
   ]
  },
  {
   "cell_type": "code",
   "execution_count": 29,
   "metadata": {},
   "outputs": [
    {
     "data": {
      "text/plain": [
       "7"
      ]
     },
     "execution_count": 29,
     "metadata": {},
     "output_type": "execute_result"
    }
   ],
   "source": [
    "len(file)"
   ]
  },
  {
   "cell_type": "code",
   "execution_count": 31,
   "metadata": {},
   "outputs": [
    {
     "name": "stdout",
     "output_type": "stream",
     "text": [
      "Pain levels: 4,4,2,1,1\n"
     ]
    },
    {
     "data": {
      "image/png": "[encoded data removed]",
      "text/plain": [
       "<Figure size 432x288 with 1 Axes>"
      ]
     },
     "metadata": {
      "needs_background": "light"
     },
     "output_type": "display_data"
    }
   ],
   "source": [
    "plt.plot(AU_sum)\n",
    "# plt.plot(Final_DF['SUM_AU_r'])\n",
    "plt.ylabel('SUM_AU_r')\n",
    "plt.xlabel('Frames')\n",
    "plt.axhline(y=no_pain_UL, color='r', linestyle='-')\n",
    "plt.axhline(y=pain_1_UL, color='b', linestyle='-')\n",
    "plt.axhline(y=pain_2_UL, color='b', linestyle='-')\n",
    "plt.axhline(y=pain_3_UL, color='b', linestyle='-')\n",
    "plt.axvline(x=150, color='g')\n",
    "plt.axvline(x=300, color='g')\n",
    "plt.axvline(x=450, color='g')\n",
    "plt.axvline(x=600, color='g')\n",
    "print('Pain levels: 4,4,2,1,1')"
   ]
  },
  {
   "cell_type": "code",
   "execution_count": 32,
   "metadata": {},
   "outputs": [
    {
     "data": {
      "text/plain": [
       "['Pain Level 4',\n",
       " 'Pain Level 4',\n",
       " 'Pain Level 4',\n",
       " 'Pain Level 2',\n",
       " 'Pain Level 1',\n",
       " 'Pain Level 1',\n",
       " 'No Pain']"
      ]
     },
     "execution_count": 32,
     "metadata": {},
     "output_type": "execute_result"
    }
   ],
   "source": [
    "file"
   ]
  },
  {
   "cell_type": "code",
   "execution_count": 33,
   "metadata": {},
   "outputs": [
    {
     "name": "stdout",
     "output_type": "stream",
     "text": [
      "The sliding window counter:    \n",
      "No Pain count is:    1\n",
      "Pain 1 count is:     2\n",
      "Pain 2 count is:     1\n",
      "Pain 3 count is:     0\n",
      "Pain 4 count is:     3\n"
     ]
    }
   ],
   "source": [
    "count_np=0\n",
    "count_p1=0\n",
    "count_p2=0\n",
    "count_p3=0\n",
    "count_p4=0\n",
    "for level in file:\n",
    "    if level=='No Pain':\n",
    "        count_np+=1\n",
    "    if level=='Pain Level 1':\n",
    "        count_p1+=1\n",
    "    if level=='Pain Level 2':\n",
    "        count_p2+=1\n",
    "    if level=='Pain Level 3':\n",
    "        count_p3+=1\n",
    "    if level=='Pain Level 4':\n",
    "        count_p4+=1\n",
    "print(\"The sliding window counter:    \")\n",
    "print(\"No Pain count is:   \",count_np)\n",
    "print(\"Pain 1 count is:    \",count_p1)\n",
    "print(\"Pain 2 count is:    \",count_p2)\n",
    "print(\"Pain 3 count is:    \",count_p3)\n",
    "print(\"Pain 4 count is:    \",count_p4)"
   ]
  },
  {
   "cell_type": "code",
   "execution_count": 34,
   "metadata": {},
   "outputs": [],
   "source": [
    "# b=df[\"PSPI_score\"]"
   ]
  },
  {
   "cell_type": "code",
   "execution_count": 39,
   "metadata": {},
   "outputs": [
    {
     "name": "stdout",
     "output_type": "stream",
     "text": [
      "Pain levels: 4,4,2,1,1\n"
     ]
    },
    {
     "data": {
      "image/png": "[encoded data removed]",
      "text/plain": [
       "<Figure size 432x288 with 1 Axes>"
      ]
     },
     "metadata": {
      "needs_background": "light"
     },
     "output_type": "display_data"
    }
   ],
   "source": [
    "plt.plot(b)\n",
    "# plt.plot(Final_DF['SUM_AU_r'])\n",
    "plt.ylabel('PSPI_score')\n",
    "plt.xlabel('Frames')\n",
    "plt.axhline(y=no_pain_UL, color='r', linestyle='-')\n",
    "plt.axhline(y=pain_1_UL, color='b', linestyle='-')\n",
    "plt.axhline(y=pain_2_UL, color='b', linestyle='-')\n",
    "plt.axhline(y=pain_3_UL, color='b', linestyle='-')\n",
    "plt.axvline(x=150, color='g')\n",
    "plt.axvline(x=300, color='g')\n",
    "plt.axvline(x=450, color='g')\n",
    "plt.axvline(x=600, color='g')\n",
    "# plt.legend()\n",
    "print('Pain levels: 4,4,2,1,1')"
   ]
  },
  {
   "cell_type": "code",
   "execution_count": null,
   "metadata": {},
   "outputs": [],
   "source": []
  },
  {
   "cell_type": "code",
   "execution_count": null,
   "metadata": {},
   "outputs": [],
   "source": []
  }
 ],
 "metadata": {
  "kernelspec": {
   "display_name": "Python 3",
   "language": "python",
   "name": "python3"
  },
  "language_info": {
   "codemirror_mode": {
    "name": "ipython",
    "version": 3
   },
   "file_extension": ".py",
   "mimetype": "text/x-python",
   "name": "python",
   "nbconvert_exporter": "python",
   "pygments_lexer": "ipython3",
   "version": "3.6.10"
  }
 },
 "nbformat": 4,
 "nbformat_minor": 4
}
