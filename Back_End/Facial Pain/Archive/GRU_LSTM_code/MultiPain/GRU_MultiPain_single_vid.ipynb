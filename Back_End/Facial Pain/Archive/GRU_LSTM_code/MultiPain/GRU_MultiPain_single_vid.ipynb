{
  "nbformat": 4,
  "nbformat_minor": 0,
  "metadata": {
    "colab": {
      "name": "GRU_MultiPain_single_vid.ipynb",
      "provenance": [],
      "collapsed_sections": []
    },
    "kernelspec": {
      "display_name": "Python 3",
      "name": "python3"
    },
    "accelerator": "GPU"
  },
  "cells": [
    {
      "cell_type": "code",
      "metadata": {
        "id": "h453GaRCiTCv"
      },
      "source": [
        "import os\n",
        "import shutil\n",
        "import torch\n",
        "import torch.nn as nn\n",
        "import torchvision\n",
        "import torchvision.transforms as transforms\n",
        "from torch.utils.data import Dataset, DataLoader\n",
        "import numpy as np\n",
        "import math\n",
        "from torchsummary import summary\n",
        "import matplotlib.pyplot as plt\n",
        "import torch.nn.functional as F\n",
        "import time\n",
        "import math\n",
        "from scipy import stats"
      ],
      "execution_count": null,
      "outputs": []
    },
    {
      "cell_type": "code",
      "metadata": {
        "id": "Hn1Y7s09iWGb"
      },
      "source": [
        "def lstm_data_transform(x_data, y_data, num_steps=75):\n",
        "    \"\"\" Changes data to the format for LSTM training \n",
        "for sliding window approach \"\"\"\n",
        "    # Prepare the list for the transformed data\n",
        "    X, y = list(), list()\n",
        "    # Loop of the entire data set\n",
        "    for i in range(x_data.shape[0]):\n",
        "        # compute a new (sliding window) index\n",
        "        end_ix = i + num_steps\n",
        "        # if index is larger than the size of the dataset, we stop\n",
        "        if end_ix >= x_data.shape[0]:\n",
        "            break\n",
        "        # Get a sequence of data for x\n",
        "        seq_X = x_data[i:end_ix]\n",
        "        # Get only the mean of the sequence labels and rounding the value for label of the sequency\n",
        "        mean_arr_y= y_data[i:end_ix]\n",
        "        # y_mean_label=round(np.average(mean_arr_y))\n",
        "        # seq_y = y_mean_label\n",
        "        # print(y_mean_label)\n",
        "        # Finding the most repeatitive label in the list of labels in the given sequence by using mode function\n",
        "        y_mean_label = stats.mode(mean_arr_y)\n",
        "        y_label = y_mean_label[0][0][0]\n",
        "        seq_y = y_label\n",
        "\n",
        "        ## Scale labels between 0 to 3 ################################\n",
        "        seq_y=seq_y-1.0\n",
        "\n",
        "        # Append the list with sequencies\n",
        "        X.append(seq_X)\n",
        "        y.append(seq_y)\n",
        "    # Make final arrays\n",
        "    x_array = np.array(X)\n",
        "    y_array = np.array(y)\n",
        "    x=torch.from_numpy(x_array)\n",
        "    y=torch.from_numpy(y_array)\n",
        "    return x, y"
      ],
      "execution_count": null,
      "outputs": []
    },
    {
      "cell_type": "code",
      "metadata": {
        "id": "BA5uLqjd8ZtN"
      },
      "source": [
        "## Splitting Data into Train, Test and Validation:\n",
        "Train_split=0.6\n",
        "Test_split=0.2\n",
        "Validation_split=0.2"
      ],
      "execution_count": null,
      "outputs": []
    },
    {
      "cell_type": "code",
      "metadata": {
        "id": "2GxVDXzb-nHr",
        "colab": {
          "base_uri": "https://localhost:8080/"
        },
        "outputId": "313d83f9-0460-42eb-9434-e6ee4a6f138b"
      },
      "source": [
        "with open('/content/drive/MyDrive/MultiPain/GRU/Data/071709_w_23.csv', 'r') as f:\n",
        "  xy_pain = np.loadtxt(f, delimiter=\",\",dtype=np.float32,skiprows=1)\n",
        "\n",
        "x_p=(xy_pain[:1,2:-2])\n",
        "print(x_p.shape)\n",
        "y_p=(xy_pain[:(math.floor(Train_split*len(xy_pain))),[-1]])"
      ],
      "execution_count": null,
      "outputs": [
        {
          "output_type": "stream",
          "text": [
            "(1, 34)\n"
          ],
          "name": "stdout"
        }
      ]
    },
    {
      "cell_type": "code",
      "metadata": {
        "id": "N0KA5OqsiWUX"
      },
      "source": [
        "class PainDataset_Train(Dataset):\n",
        "    \"\"\" Pain dataset.\"\"\"\n",
        "\n",
        "    # Initialize your data, download, etc.\n",
        "    def __init__(self):\n",
        "        with open('/content/drive/MyDrive/MultiPain/GRU/Data/071709_w_23.csv', 'r') as f:\n",
        "          xy_pain = np.loadtxt(f, delimiter=\",\",dtype=np.float32,skiprows=1)\n",
        "        \n",
        "        # x_p=(xy_pain[:(math.floor(Train_split*len(xy_pain))),2:-19])\n",
        "        # y_p=(xy_pain[:(math.floor(Train_split*len(xy_pain))),[-1]])\n",
        "\n",
        "        x_p=(xy_pain[:(math.floor(Train_split*len(xy_pain))),2:-2])\n",
        "        y_p=(xy_pain[:(math.floor(Train_split*len(xy_pain))),[-1]])\n",
        "       \n",
        "        x_sequences,y_sequences=lstm_data_transform(x_p,y_p)\n",
        "        \n",
        "        self.x_data = x_sequences\n",
        "        self.y_data = y_sequences\n",
        "                \n",
        "        # print(y_sequences)\n",
        "\n",
        "        self.len = x_sequences.shape[0]\n",
        "        \n",
        "    def __getitem__(self, index):\n",
        "        return self.x_data[index], torch.tensor(self.y_data[index])\n",
        "\n",
        "    def __len__(self):\n",
        "        return self.len"
      ],
      "execution_count": null,
      "outputs": []
    },
    {
      "cell_type": "code",
      "metadata": {
        "id": "wwETPVo-gLc2"
      },
      "source": [
        "# test_dataset = PainDataset_Train()\n",
        "# teest_loader = DataLoader(dataset=test_dataset,batch_size=1,shuffle=False)"
      ],
      "execution_count": null,
      "outputs": []
    },
    {
      "cell_type": "code",
      "metadata": {
        "id": "yBzcT6AIiAdd"
      },
      "source": [
        "class PainDataset_Validation(Dataset):\n",
        "    \"\"\" Pain dataset.\"\"\"\n",
        "\n",
        "    # Initialize your data, download, etc.\n",
        "    def __init__(self):\n",
        "        with open('/content/drive/MyDrive/MultiPain/GRU/Data/071709_w_23.csv', 'r') as f:\n",
        "          xy_pain = np.loadtxt(f, delimiter=\",\",dtype=np.float32,skiprows=1)\n",
        "        x_p=(xy_pain[(math.floor(Train_split*len(xy_pain))):(math.floor((Train_split+Validation_split)*len(xy_pain))),2:-2])\n",
        "        y_p=(xy_pain[(math.floor(Train_split*len(xy_pain))):(math.floor((Train_split+Validation_split)*len(xy_pain))),[-1]])\n",
        "\n",
        "        x_sequences,y_sequences=lstm_data_transform(x_p,y_p)\n",
        "\n",
        "        self.x_data = x_sequences\n",
        "        self.y_data = y_sequences\n",
        "\n",
        "        self.len = x_sequences.shape[0]\n",
        "        \n",
        "\n",
        "    def __getitem__(self, index):\n",
        "        return self.x_data[index], torch.tensor(self.y_data[index])\n",
        "\n",
        "    def __len__(self):\n",
        "        return self.len"
      ],
      "execution_count": null,
      "outputs": []
    },
    {
      "cell_type": "code",
      "metadata": {
        "id": "S67wDFZpvex1"
      },
      "source": [
        "class PainDataset_Test(Dataset):\n",
        "    \"\"\" Pain dataset.\"\"\"\n",
        "\n",
        "    # Initialize your data, download, etc.\n",
        "    def __init__(self):\n",
        "        with open('/content/drive/MyDrive/MultiPain/GRU/Data/071709_w_23.csv', 'r') as f:\n",
        "          xy_pain = np.loadtxt(f, delimiter=\",\",dtype=np.float32,skiprows=1)\n",
        "        \n",
        "        x_p=(xy_pain[(math.floor((Train_split+Validation_split)*len(xy_pain))):len(xy_pain),2:-2])\n",
        "        y_p=(xy_pain[(math.floor((Train_split+Validation_split)*len(xy_pain))):len(xy_pain),[-1]])\n",
        "        \n",
        "        x_sequences,y_sequences=lstm_data_transform(x_p,y_p)\n",
        "        \n",
        "        self.x_data = x_sequences\n",
        "        self.y_data = y_sequences\n",
        "        \n",
        "        self.len = x_sequences.shape[0]\n",
        "        \n",
        "\n",
        "    def __getitem__(self, index):\n",
        "        return self.x_data[index], torch.tensor(self.y_data[index])\n",
        "\n",
        "    def __len__(self):\n",
        "        return self.len"
      ],
      "execution_count": null,
      "outputs": []
    },
    {
      "cell_type": "code",
      "metadata": {
        "id": "MDAqY3EtTSMv"
      },
      "source": [
        "# test_dataset = PainDataset_Test()\n",
        "# teest_loader = DataLoader(dataset=test_dataset,batch_size=1,shuffle=False)"
      ],
      "execution_count": null,
      "outputs": []
    },
    {
      "cell_type": "code",
      "metadata": {
        "id": "bp7lf435XMmB",
        "colab": {
          "base_uri": "https://localhost:8080/"
        },
        "outputId": "bea49a64-9f84-4b49-f849-321b9e0f36d0"
      },
      "source": [
        "print(\"Train_split: \",Train_split*100,\"% Test_split :\",Test_split*100,\"% Validation_split :\",Validation_split*100,\"% \")"
      ],
      "execution_count": null,
      "outputs": [
        {
          "output_type": "stream",
          "text": [
            "Train_split:  60.0 % Test_split : 20.0 % Validation_split : 20.0 % \n"
          ],
          "name": "stdout"
        }
      ]
    },
    {
      "cell_type": "code",
      "metadata": {
        "id": "Un6ySo2hiWXi"
      },
      "source": [
        "start = time.time()\n",
        "\n",
        "device = torch.device('cuda')\n",
        "\n",
        "# Hyper-parameters \n",
        "# input_size = 18 AU (Both presence(1) and intensities(17) )\n",
        "num_classes = 4 ## (Binary classification as pain(0) or no pain(1) )\n",
        "num_epochs = 40\n",
        "batch_size = 30\n",
        "learning_rate = 0.001\n",
        "\n",
        "input_size = 34\n",
        "sequence_length = 75\n",
        "hidden_size = 50\n",
        "num_layers = 2\n",
        "\n",
        "\n",
        "## PAIN DATASET\n",
        "\n",
        "## Add dataset here\n",
        "\n",
        "train_dataset = PainDataset_Train()\n",
        "train_loader = DataLoader(dataset=train_dataset,batch_size=30,shuffle=True)\n",
        "\n",
        "# Fully connected neural network with one hidden layer\n",
        "class RNN(nn.Module):\n",
        "    def __init__(self, input_size, hidden_size, num_layers, num_classes):\n",
        "        super(RNN, self).__init__()\n",
        "        self.num_layers = num_layers\n",
        "        self.hidden_size = hidden_size\n",
        "        # self.lstm = nn.LSTM(input_size, hidden_size, num_layers, batch_first=True)\n",
        "        # -> x needs to be: (batch_size, seq, input_size)\n",
        "        \n",
        "        self.gru = nn.GRU(input_size, hidden_size, num_layers, batch_first=True)\n",
        "        # Can add sigmoid here itself ################################################## \n",
        "        self.fc = nn.Linear(hidden_size, num_classes)\n",
        "        \n",
        "    def forward(self, x):\n",
        "        # Set initial hidden states (and cell states for LSTM)\n",
        "        h0 = torch.ones(self.num_layers, x.size(0), self.hidden_size).to(device) \n",
        "        \n",
        "        # Check list sizes here to match required lengths\n",
        "        # x: (n, 28, 28), h0: (2, n, 128)\n",
        "        \n",
        "        # Forward propagate RNN\n",
        "        out, _ = self.gru(x, (h0))  \n",
        "        \n",
        "        # out: tensor of shape (batch_size, seq_length, hidden_size)\n",
        "        # out: (n, 28, 128)\n",
        "        \n",
        "        # Decode the hidden state of the last time step\n",
        "        out = out[:, -1, :]\n",
        "        # out: (n, 128)\n",
        "#         F.log_softmax(self.linear(bow_vec), dim=1)\n",
        "        out = self.fc(out)\n",
        "        out= F.log_softmax((out),dim=1)\n",
        "        # out: (n, 2)\n",
        "        return out\n",
        "\n",
        "model = RNN(input_size, hidden_size, num_layers, num_classes).to(device)\n",
        "\n",
        "# Loss and optimizer setting\n",
        "criterion = nn.CrossEntropyLoss() ## Useful for later stage where we might have to use pain levels\n",
        "# criterion = nn.NLLLoss()\n",
        "# criterion = nn.BCELoss()\n",
        "# criterion = nn.BCEWithLogitsLoss()\n",
        "# m = nn.Sigmoid()\n",
        "optimizer = torch.optim.Adam(model.parameters(), lr=learning_rate)  \n",
        "## Hinge loss try"
      ],
      "execution_count": null,
      "outputs": []
    },
    {
      "cell_type": "code",
      "metadata": {
        "id": "Ekepy-67yZxu"
      },
      "source": [
        "# zz=next(iter(train_loader))\n",
        "# zz[0].shape"
      ],
      "execution_count": null,
      "outputs": []
    },
    {
      "cell_type": "code",
      "metadata": {
        "id": "fFYQkzNTiWaS",
        "colab": {
          "base_uri": "https://localhost:8080/"
        },
        "outputId": "a95e2ebc-b6b3-46ff-87bc-67ac3e7d883f"
      },
      "source": [
        "# summary(model,input_size=(10,30,18))\n",
        "print(model)"
      ],
      "execution_count": null,
      "outputs": [
        {
          "output_type": "stream",
          "text": [
            "RNN(\n",
            "  (gru): GRU(34, 50, num_layers=2, batch_first=True)\n",
            "  (fc): Linear(in_features=50, out_features=4, bias=True)\n",
            ")\n"
          ],
          "name": "stdout"
        }
      ]
    },
    {
      "cell_type": "code",
      "metadata": {
        "id": "8MWID-I0iWcZ",
        "colab": {
          "base_uri": "https://localhost:8080/"
        },
        "outputId": "b0c082f2-b87c-48ee-ac6f-c302708652cf"
      },
      "source": [
        "n_total_steps = len(train_loader)\n",
        "i=0\n",
        "\n",
        "loss_count=[]\n",
        "Valid_count=[]\n",
        "Test_count=[]\n",
        "for epoch in range(num_epochs):\n",
        "    loss_value=0.0\n",
        "    for i,data in enumerate(train_loader, 0):\n",
        "#         print(data)\n",
        "        features, labels = data\n",
        "\n",
        "        # print('labels',labels)\n",
        "#         print('features',features)\n",
        "        \n",
        "        features = features.reshape(-1, sequence_length, input_size).to(device)\n",
        "#         print(features.shape)\n",
        "        labels = labels.to(device)\n",
        "        # Forward pass\n",
        "        outputs = model(features)\n",
        "#         print(len(labels),len(m(outputs)[0]))\n",
        "#         print(\"sh\",features.shape)\n",
        "#         print('out',outputs.shape)\n",
        "#         print('lab',labels.shape)\n",
        "        loss = criterion(outputs, labels.long())\n",
        "        \n",
        "        # Backward and optimize\n",
        "        optimizer.zero_grad()\n",
        "        loss.backward()\n",
        "        optimizer.step()\n",
        "        i+=1\n",
        "        loss_value+=loss.item()\n",
        "        if (i+1) % 100 == 0:\n",
        "            print (f'Epoch [{epoch+1}/{num_epochs}], Step [{i+1}/{n_total_steps}], Loss: {loss.item():.6f}')\n",
        "    loss_count.append(loss_value/n_total_steps)\n",
        "    ## Add validation code here (End of an epoch)\n",
        "\n",
        "    Val_dataset = PainDataset_Validation()\n",
        "    Val_loader = DataLoader(dataset=Val_dataset,batch_size=10,shuffle=True)\n",
        "    # Test the model on Validation data\n",
        "    # In test phase, we don't need to compute gradients (for memory efficiency)\n",
        "    n_total_steps_v = len(Val_loader)\n",
        "    with torch.no_grad():\n",
        "        n_correct_v = 0\n",
        "        n_samples_v = 0\n",
        "        valid_loss_value=0.0\n",
        "        for i,data_v in enumerate(Val_loader, 0):\n",
        "            # print(data)\n",
        "            features_v, labels_v = data_v\n",
        "            features_v = features_v.reshape(-1, sequence_length, input_size).to(device)\n",
        "            labels_v=labels_v.to(device)\n",
        "            \n",
        "            outputs_v = model(features_v)\n",
        "            # print(outputs)\n",
        "            _, predicted_v = torch.max(outputs_v.data, 1)\n",
        "            valid_loss = criterion(outputs_v, labels_v.long())\n",
        "            valid_loss_value+=valid_loss.item()\n",
        "            # print('predicted',predicted)\n",
        "            # print('labels',labels)\n",
        "            n_samples_v += labels_v.size(0)\n",
        "            n_correct_v += (predicted_v == labels_v.long()).sum().item()\n",
        "        # append avg val loss \n",
        "        Valid_count.append(valid_loss_value/n_total_steps_v)\n",
        "        acc_val = 100.0 * n_correct_v / n_samples_v\n",
        "        print(f'Accuracy of the network on Validation data for epoch {epoch+1} is : {acc_val} %')\n",
        "      \n",
        "    Test_dataset = PainDataset_Test()\n",
        "    Test_loader = DataLoader(dataset=Test_dataset,batch_size=30,shuffle=True)\n",
        "    # Test the model on Validation data\n",
        "    # In test phase, we don't need to compute gradients (for memory efficiency)\n",
        "    n_total_steps_t = len(Test_loader)\n",
        "    with torch.no_grad():\n",
        "        n_correct_t = 0\n",
        "        n_samples_t = 0\n",
        "        test_loss_value=0.0\n",
        "        for i,data_t in enumerate(Test_loader, 0):\n",
        "            # print(data)\n",
        "            features_t, labels_t = data_t\n",
        "            features_t = features_t.reshape(-1, sequence_length, input_size).to(device)\n",
        "            labels_t=labels_t.to(device)\n",
        "            \n",
        "            outputs_t = model(features_t)\n",
        "            # print(outputs)\n",
        "            _, predicted_t = torch.max(outputs_t.data, 1)\n",
        "            test_loss = criterion(outputs_t, labels_t.long())\n",
        "            test_loss_value+=test_loss.item()\n",
        "            # print('predicted',predicted)\n",
        "            # print('labels',labels)\n",
        "            n_samples_t += labels_t.size(0)\n",
        "            n_correct_t += (predicted_t == labels_t.long()).sum().item()\n",
        "        # append avg val loss \n",
        "        Test_count.append(test_loss_value/n_total_steps_t)\n",
        "        acc_test = 100.0 * n_correct_t / n_samples_t\n",
        "        print(f'Accuracy of the network on Test data for epoch {epoch+1} is : {acc_test} %')"
      ],
      "execution_count": null,
      "outputs": [
        {
          "output_type": "stream",
          "text": [
            "/usr/local/lib/python3.6/dist-packages/ipykernel_launcher.py:25: UserWarning: To copy construct from a tensor, it is recommended to use sourceTensor.clone().detach() or sourceTensor.clone().detach().requires_grad_(True), rather than torch.tensor(sourceTensor).\n"
          ],
          "name": "stderr"
        },
        {
          "output_type": "stream",
          "text": [
            "Epoch [1/40], Step [100/240], Loss: 1.147749\n",
            "Epoch [1/40], Step [200/240], Loss: 0.846966\n"
          ],
          "name": "stdout"
        },
        {
          "output_type": "stream",
          "text": [
            "/usr/local/lib/python3.6/dist-packages/ipykernel_launcher.py:20: UserWarning: To copy construct from a tensor, it is recommended to use sourceTensor.clone().detach() or sourceTensor.clone().detach().requires_grad_(True), rather than torch.tensor(sourceTensor).\n"
          ],
          "name": "stderr"
        },
        {
          "output_type": "stream",
          "text": [
            "Accuracy of the network on Validation data for epoch 1 is : 28.278513455788126 %\n"
          ],
          "name": "stdout"
        },
        {
          "output_type": "stream",
          "text": [
            "/usr/local/lib/python3.6/dist-packages/ipykernel_launcher.py:21: UserWarning: To copy construct from a tensor, it is recommended to use sourceTensor.clone().detach() or sourceTensor.clone().detach().requires_grad_(True), rather than torch.tensor(sourceTensor).\n"
          ],
          "name": "stderr"
        },
        {
          "output_type": "stream",
          "text": [
            "Accuracy of the network on Test data for epoch 1 is : 22.17001281503631 %\n",
            "Epoch [2/40], Step [100/240], Loss: 0.744463\n",
            "Epoch [2/40], Step [200/240], Loss: 0.738452\n",
            "Accuracy of the network on Validation data for epoch 2 is : 29.260999572832123 %\n",
            "Accuracy of the network on Test data for epoch 2 is : 24.989320803075607 %\n",
            "Epoch [3/40], Step [100/240], Loss: 0.358825\n",
            "Epoch [3/40], Step [200/240], Loss: 0.520703\n",
            "Accuracy of the network on Validation data for epoch 3 is : 26.868859461768476 %\n",
            "Accuracy of the network on Test data for epoch 3 is : 22.59718069201196 %\n",
            "Epoch [4/40], Step [100/240], Loss: 0.274817\n",
            "Epoch [4/40], Step [200/240], Loss: 0.515912\n",
            "Accuracy of the network on Validation data for epoch 4 is : 24.733020076890217 %\n",
            "Accuracy of the network on Test data for epoch 4 is : 30.7560871422469 %\n",
            "Epoch [5/40], Step [100/240], Loss: 0.122733\n",
            "Epoch [5/40], Step [200/240], Loss: 0.186299\n",
            "Accuracy of the network on Validation data for epoch 5 is : 25.33105510465613 %\n",
            "Accuracy of the network on Test data for epoch 5 is : 29.98718496369073 %\n",
            "Epoch [6/40], Step [100/240], Loss: 0.086697\n",
            "Epoch [6/40], Step [200/240], Loss: 0.114121\n",
            "Accuracy of the network on Validation data for epoch 6 is : 25.202904741563433 %\n",
            "Accuracy of the network on Test data for epoch 6 is : 28.40666381888082 %\n",
            "Epoch [7/40], Step [100/240], Loss: 0.104259\n",
            "Epoch [7/40], Step [200/240], Loss: 0.165749\n",
            "Accuracy of the network on Validation data for epoch 7 is : 24.604869713797523 %\n",
            "Accuracy of the network on Test data for epoch 7 is : 24.00683468603161 %\n",
            "Epoch [8/40], Step [100/240], Loss: 0.158601\n",
            "Epoch [8/40], Step [200/240], Loss: 0.271407\n",
            "Accuracy of the network on Validation data for epoch 8 is : 27.50961127723195 %\n",
            "Accuracy of the network on Test data for epoch 8 is : 26.270824434002563 %\n",
            "Epoch [9/40], Step [100/240], Loss: 0.251634\n",
            "Epoch [9/40], Step [200/240], Loss: 0.114719\n",
            "Accuracy of the network on Validation data for epoch 9 is : 30.7560871422469 %\n",
            "Accuracy of the network on Test data for epoch 9 is : 26.057240495514737 %\n",
            "Epoch [10/40], Step [100/240], Loss: 0.066779\n",
            "Epoch [10/40], Step [200/240], Loss: 0.067408\n",
            "Accuracy of the network on Validation data for epoch 10 is : 27.723195215719777 %\n",
            "Accuracy of the network on Test data for epoch 10 is : 25.288338316958566 %\n",
            "Epoch [11/40], Step [100/240], Loss: 0.014574\n",
            "Epoch [11/40], Step [200/240], Loss: 0.066788\n",
            "Accuracy of the network on Validation data for epoch 11 is : 24.220418624519436 %\n",
            "Accuracy of the network on Test data for epoch 11 is : 31.012387868432295 %\n",
            "Epoch [12/40], Step [100/240], Loss: 0.021188\n",
            "Epoch [12/40], Step [200/240], Loss: 0.058483\n",
            "Accuracy of the network on Validation data for epoch 12 is : 26.441691584792824 %\n",
            "Accuracy of the network on Test data for epoch 12 is : 23.280649295173003 %\n",
            "Epoch [13/40], Step [100/240], Loss: 0.017260\n",
            "Epoch [13/40], Step [200/240], Loss: 0.059577\n",
            "Accuracy of the network on Validation data for epoch 13 is : 28.705681332763778 %\n",
            "Accuracy of the network on Test data for epoch 13 is : 24.604869713797523 %\n",
            "Epoch [14/40], Step [100/240], Loss: 0.146924\n",
            "Epoch [14/40], Step [200/240], Loss: 0.147034\n",
            "Accuracy of the network on Validation data for epoch 14 is : 28.40666381888082 %\n",
            "Accuracy of the network on Test data for epoch 14 is : 23.23793250747544 %\n",
            "Epoch [15/40], Step [100/240], Loss: 0.097903\n",
            "Epoch [15/40], Step [200/240], Loss: 0.024299\n",
            "Accuracy of the network on Validation data for epoch 15 is : 29.047415634344297 %\n",
            "Accuracy of the network on Test data for epoch 15 is : 24.946604015378043 %\n",
            "Epoch [16/40], Step [100/240], Loss: 0.062801\n",
            "Epoch [16/40], Step [200/240], Loss: 0.047005\n",
            "Accuracy of the network on Validation data for epoch 16 is : 26.91157624946604 %\n",
            "Accuracy of the network on Test data for epoch 16 is : 25.544639043143956 %\n",
            "Epoch [17/40], Step [100/240], Loss: 0.023079\n",
            "Epoch [17/40], Step [200/240], Loss: 0.101019\n",
            "Accuracy of the network on Validation data for epoch 17 is : 26.91157624946604 %\n",
            "Accuracy of the network on Test data for epoch 17 is : 23.280649295173003 %\n",
            "Epoch [18/40], Step [100/240], Loss: 0.009872\n",
            "Epoch [18/40], Step [200/240], Loss: 0.015306\n",
            "Accuracy of the network on Validation data for epoch 18 is : 33.14822725331055 %\n",
            "Accuracy of the network on Test data for epoch 18 is : 22.896198205894915 %\n",
            "Epoch [19/40], Step [100/240], Loss: 0.070102\n",
            "Epoch [19/40], Step [200/240], Loss: 0.056519\n",
            "Accuracy of the network on Validation data for epoch 19 is : 27.595044852627083 %\n",
            "Accuracy of the network on Test data for epoch 19 is : 23.964117898334045 %\n",
            "Epoch [20/40], Step [100/240], Loss: 0.018773\n",
            "Epoch [20/40], Step [200/240], Loss: 0.018498\n",
            "Accuracy of the network on Validation data for epoch 20 is : 26.91157624946604 %\n",
            "Accuracy of the network on Test data for epoch 20 is : 22.4263135412217 %\n",
            "Epoch [21/40], Step [100/240], Loss: 0.169080\n",
            "Epoch [21/40], Step [200/240], Loss: 0.135559\n",
            "Accuracy of the network on Validation data for epoch 21 is : 26.569841947885518 %\n",
            "Accuracy of the network on Test data for epoch 21 is : 24.56215292609996 %\n",
            "Epoch [22/40], Step [100/240], Loss: 0.214932\n",
            "Epoch [22/40], Step [200/240], Loss: 0.140017\n",
            "Accuracy of the network on Validation data for epoch 22 is : 28.449380606578384 %\n",
            "Accuracy of the network on Test data for epoch 22 is : 23.195215719777874 %\n",
            "Epoch [23/40], Step [100/240], Loss: 0.023415\n",
            "Epoch [23/40], Step [200/240], Loss: 0.002977\n",
            "Accuracy of the network on Validation data for epoch 23 is : 27.296027338744125 %\n",
            "Accuracy of the network on Test data for epoch 23 is : 25.84365655702691 %\n",
            "Epoch [24/40], Step [100/240], Loss: 0.001916\n",
            "Epoch [24/40], Step [200/240], Loss: 0.060027\n",
            "Accuracy of the network on Validation data for epoch 24 is : 28.022212729602735 %\n",
            "Accuracy of the network on Test data for epoch 24 is : 19.35070482699701 %\n",
            "Epoch [25/40], Step [100/240], Loss: 0.026002\n",
            "Epoch [25/40], Step [200/240], Loss: 0.005469\n",
            "Accuracy of the network on Validation data for epoch 25 is : 26.270824434002563 %\n",
            "Accuracy of the network on Test data for epoch 25 is : 25.202904741563433 %\n",
            "Epoch [26/40], Step [100/240], Loss: 0.010790\n",
            "Epoch [26/40], Step [200/240], Loss: 0.128937\n",
            "Accuracy of the network on Validation data for epoch 26 is : 28.49209739427595 %\n",
            "Accuracy of the network on Test data for epoch 26 is : 22.51174711661683 %\n",
            "Epoch [27/40], Step [100/240], Loss: 0.006395\n",
            "Epoch [27/40], Step [200/240], Loss: 0.003468\n",
            "Accuracy of the network on Validation data for epoch 27 is : 29.859034600598036 %\n",
            "Accuracy of the network on Test data for epoch 27 is : 24.903887227680478 %\n",
            "Epoch [28/40], Step [100/240], Loss: 0.020499\n",
            "Epoch [28/40], Step [200/240], Loss: 0.007358\n",
            "Accuracy of the network on Validation data for epoch 28 is : 27.80862879111491 %\n",
            "Accuracy of the network on Test data for epoch 28 is : 23.024348568987612 %\n",
            "Epoch [29/40], Step [100/240], Loss: 0.001406\n",
            "Epoch [29/40], Step [200/240], Loss: 0.059487\n",
            "Accuracy of the network on Validation data for epoch 29 is : 27.936779154207603 %\n",
            "Accuracy of the network on Test data for epoch 29 is : 24.049551473729174 %\n",
            "Epoch [30/40], Step [100/240], Loss: 0.004127\n",
            "Epoch [30/40], Step [200/240], Loss: 0.003211\n",
            "Accuracy of the network on Validation data for epoch 30 is : 25.886373344724475 %\n",
            "Accuracy of the network on Test data for epoch 30 is : 21.18752669799231 %\n",
            "Epoch [31/40], Step [100/240], Loss: 0.012998\n",
            "Epoch [31/40], Step [200/240], Loss: 0.047096\n",
            "Accuracy of the network on Validation data for epoch 31 is : 24.220418624519436 %\n",
            "Accuracy of the network on Test data for epoch 31 is : 25.50192225544639 %\n",
            "Epoch [32/40], Step [100/240], Loss: 0.002030\n",
            "Epoch [32/40], Step [200/240], Loss: 0.002752\n",
            "Accuracy of the network on Validation data for epoch 32 is : 27.210593763348996 %\n",
            "Accuracy of the network on Test data for epoch 32 is : 24.263135412217 %\n",
            "Epoch [33/40], Step [100/240], Loss: 0.096190\n",
            "Epoch [33/40], Step [200/240], Loss: 0.001921\n",
            "Accuracy of the network on Validation data for epoch 33 is : 24.348568987612133 %\n",
            "Accuracy of the network on Test data for epoch 33 is : 24.946604015378043 %\n",
            "Epoch [34/40], Step [100/240], Loss: 0.009914\n",
            "Epoch [34/40], Step [200/240], Loss: 0.004063\n",
            "Accuracy of the network on Validation data for epoch 34 is : 28.40666381888082 %\n",
            "Accuracy of the network on Test data for epoch 34 is : 27.16787697565143 %\n",
            "Epoch [35/40], Step [100/240], Loss: 0.022143\n",
            "Epoch [35/40], Step [200/240], Loss: 0.161266\n",
            "Accuracy of the network on Validation data for epoch 35 is : 30.371636052968817 %\n",
            "Accuracy of the network on Test data for epoch 35 is : 24.476719350704826 %\n",
            "Epoch [36/40], Step [100/240], Loss: 0.100812\n",
            "Epoch [36/40], Step [200/240], Loss: 0.013961\n",
            "Accuracy of the network on Validation data for epoch 36 is : 28.32123024348569 %\n",
            "Accuracy of the network on Test data for epoch 36 is : 26.356258009397692 %\n",
            "Epoch [37/40], Step [100/240], Loss: 0.055698\n",
            "Epoch [37/40], Step [200/240], Loss: 0.003098\n",
            "Accuracy of the network on Validation data for epoch 37 is : 28.363947031183255 %\n",
            "Accuracy of the network on Test data for epoch 37 is : 23.366082870568132 %\n",
            "Epoch [38/40], Step [100/240], Loss: 0.001779\n",
            "Epoch [38/40], Step [200/240], Loss: 0.006279\n",
            "Accuracy of the network on Validation data for epoch 38 is : 33.53267834258864 %\n",
            "Accuracy of the network on Test data for epoch 38 is : 24.305852199914565 %\n",
            "Epoch [39/40], Step [100/240], Loss: 0.028978\n",
            "Epoch [39/40], Step [200/240], Loss: 0.002193\n",
            "Accuracy of the network on Validation data for epoch 39 is : 26.65527552328065 %\n",
            "Accuracy of the network on Test data for epoch 39 is : 22.34087996582657 %\n",
            "Epoch [40/40], Step [100/240], Loss: 0.002689\n",
            "Epoch [40/40], Step [200/240], Loss: 0.044141\n",
            "Accuracy of the network on Validation data for epoch 40 is : 27.80862879111491 %\n",
            "Accuracy of the network on Test data for epoch 40 is : 21.27296027338744 %\n"
          ],
          "name": "stdout"
        }
      ]
    },
    {
      "cell_type": "code",
      "metadata": {
        "id": "zb3c9-UviWhd",
        "colab": {
          "base_uri": "https://localhost:8080/",
          "height": 282
        },
        "outputId": "19798d04-985b-447e-bed7-5edbaf515f84"
      },
      "source": [
        "# ## Add valid plot and colour\n",
        "plt.plot(loss_count,\"b\")\n",
        "# plt.savefig(r'/content/drive/My Drive/LSTM Pain No Pain (Collab)/GRU_Train_loss_'+str(num_epochs)+'_epochs1.png')"
      ],
      "execution_count": null,
      "outputs": [
        {
          "output_type": "execute_result",
          "data": {
            "text/plain": [
              "[<matplotlib.lines.Line2D at 0x7f7e1b462978>]"
            ]
          },
          "metadata": {
            "tags": []
          },
          "execution_count": 15
        },
        {
          "output_type": "display_data",
          "data": {
            "image/png": "[encoded data removed]",
            "text/plain": [
              "<Figure size 432x288 with 1 Axes>"
            ]
          },
          "metadata": {
            "tags": [],
            "needs_background": "light"
          }
        }
      ]
    },
    {
      "cell_type": "code",
      "metadata": {
        "id": "pcdYW1sRj1k2",
        "colab": {
          "base_uri": "https://localhost:8080/",
          "height": 282
        },
        "outputId": "d4dc79c6-8632-4311-f1cc-72711d09bfba"
      },
      "source": [
        "# ## Add valid plot and colour\n",
        "plt.plot(Test_count,\"g\")\n",
        "# plt.savefig(r'/content/drive/My Drive/LSTM Pain No Pain (Collab)/GRU_Test_loss_'+str(num_epochs)+'_epochs1.png')"
      ],
      "execution_count": null,
      "outputs": [
        {
          "output_type": "execute_result",
          "data": {
            "text/plain": [
              "[<matplotlib.lines.Line2D at 0x7f7e24113c18>]"
            ]
          },
          "metadata": {
            "tags": []
          },
          "execution_count": 16
        },
        {
          "output_type": "display_data",
          "data": {
            "image/png": "[encoded data removed]",
            "text/plain": [
              "<Figure size 432x288 with 1 Axes>"
            ]
          },
          "metadata": {
            "tags": [],
            "needs_background": "light"
          }
        }
      ]
    },
    {
      "cell_type": "code",
      "metadata": {
        "id": "BDpy6wOc_fjC",
        "colab": {
          "base_uri": "https://localhost:8080/",
          "height": 282
        },
        "outputId": "af68a9f7-0a41-4dd4-c857-bb41091643a8"
      },
      "source": [
        "## Add valid plot and colour\n",
        "plt.plot(Valid_count,\"r\")\n",
        "# plt.savefig(r'/content/drive/My Drive/LSTM Pain No Pain (Collab)/GRU_Valid_loss_'+str(num_epochs)+'_epochs1.png')"
      ],
      "execution_count": null,
      "outputs": [
        {
          "output_type": "execute_result",
          "data": {
            "text/plain": [
              "[<matplotlib.lines.Line2D at 0x7f7e2429eb00>]"
            ]
          },
          "metadata": {
            "tags": []
          },
          "execution_count": 17
        },
        {
          "output_type": "display_data",
          "data": {
            "image/png": "[encoded data removed]",
            "text/plain": [
              "<Figure size 432x288 with 1 Axes>"
            ]
          },
          "metadata": {
            "tags": [],
            "needs_background": "light"
          }
        }
      ]
    },
    {
      "cell_type": "code",
      "metadata": {
        "id": "CuP2RCqg_h1b",
        "colab": {
          "base_uri": "https://localhost:8080/",
          "height": 282
        },
        "outputId": "7767606f-65b5-4525-9460-d1094cecb6cf"
      },
      "source": [
        "## Add valid plot and colour\n",
        "plt.plot(loss_count,\"b\")\n",
        "plt.plot(Valid_count,\"r\")\n",
        "plt.plot(Test_count,\"g\")\n",
        "# plt.savefig(r'/content/drive/My Drive/LSTM Pain No Pain (Collab)/GRU_Train_Valid_loss_'+str(num_epochs)+'_epochs1.png')"
      ],
      "execution_count": null,
      "outputs": [
        {
          "output_type": "execute_result",
          "data": {
            "text/plain": [
              "[<matplotlib.lines.Line2D at 0x7f7e1b2adc50>]"
            ]
          },
          "metadata": {
            "tags": []
          },
          "execution_count": 18
        },
        {
          "output_type": "display_data",
          "data": {
            "image/png": "[encoded data removed]",
            "text/plain": [
              "<Figure size 432x288 with 1 Axes>"
            ]
          },
          "metadata": {
            "tags": [],
            "needs_background": "light"
          }
        }
      ]
    },
    {
      "cell_type": "code",
      "metadata": {
        "id": "AS1wFCV5iG3j"
      },
      "source": [
        "# Valid_count\n"
      ],
      "execution_count": null,
      "outputs": []
    },
    {
      "cell_type": "code",
      "metadata": {
        "id": "issKf6GriWj3",
        "colab": {
          "base_uri": "https://localhost:8080/"
        },
        "outputId": "e51197f1-4b82-4370-ddec-89557cf56f11"
      },
      "source": [
        "## Testing the model for both labels\n",
        "\n",
        "model.eval()\n",
        "\n",
        "test_dataset = PainDataset_Test()\n",
        "test_loader = DataLoader(dataset=test_dataset,batch_size=30,shuffle=False)\n",
        "\n",
        "# Test the model\n",
        "# In test phase, we don't need to compute gradients (for memory efficiency)\n",
        "with torch.no_grad():\n",
        "    n_correct = 0\n",
        "    n_samples = 0\n",
        "    for i,data in enumerate(test_loader, 0):\n",
        "        # print(data)\n",
        "        features, labels = data\n",
        "        features = features.reshape(-1, sequence_length, input_size).to(device)\n",
        "        labels=labels.to(device)\n",
        "        \n",
        "        outputs = model(features)\n",
        "        # print(outputs)\n",
        "        _, predicted = torch.max(outputs.data, 1)\n",
        "        # print('predicted',predicted)\n",
        "        # print('labels',labels)\n",
        "        n_samples += labels.size(0)\n",
        "        n_correct += (predicted == labels.long()).sum().item()\n",
        "\n",
        "    acc = 100.0 * n_correct / n_samples\n",
        "    print(f'Accuracy of the network on test data: {acc} %')"
      ],
      "execution_count": null,
      "outputs": [
        {
          "output_type": "stream",
          "text": [
            "/usr/local/lib/python3.6/dist-packages/ipykernel_launcher.py:21: UserWarning: To copy construct from a tensor, it is recommended to use sourceTensor.clone().detach() or sourceTensor.clone().detach().requires_grad_(True), rather than torch.tensor(sourceTensor).\n"
          ],
          "name": "stderr"
        },
        {
          "output_type": "stream",
          "text": [
            "Accuracy of the network on test data: 21.27296027338744 %\n"
          ],
          "name": "stdout"
        }
      ]
    },
    {
      "cell_type": "code",
      "metadata": {
        "id": "cAbQpfHbW-XQ",
        "colab": {
          "base_uri": "https://localhost:8080/"
        },
        "outputId": "c2a49a78-4967-4211-a655-c57b94bf9a3d"
      },
      "source": [
        "## Testing the model for both labels\n",
        "\n",
        "model.eval()\n",
        "\n",
        "test_dataset = PainDataset_Train()\n",
        "test_loader = DataLoader(dataset=test_dataset,batch_size=30,shuffle=False)\n",
        "\n",
        "# Test the model\n",
        "# In test phase, we don't need to compute gradients (for memory efficiency)\n",
        "with torch.no_grad():\n",
        "    n_correct = 0\n",
        "    n_samples = 0\n",
        "    for i,data in enumerate(test_loader, 0):\n",
        "        # print(data)\n",
        "        features, labels = data\n",
        "        features = features.reshape(-1, sequence_length, input_size).to(device)\n",
        "        labels=labels.to(device)\n",
        "        \n",
        "        outputs = model(features)\n",
        "        # print(outputs)\n",
        "        _, predicted = torch.max(outputs.data, 1)\n",
        "        # print('predicted',predicted)\n",
        "        # print('labels',labels)\n",
        "        n_samples += labels.size(0)\n",
        "        n_correct += (predicted == labels.long()).sum().item()\n",
        "\n",
        "    acc = 100.0 * n_correct / n_samples\n",
        "    print(f'Accuracy of the network on Train data: {acc} %')"
      ],
      "execution_count": null,
      "outputs": [
        {
          "output_type": "stream",
          "text": [
            "/usr/local/lib/python3.6/dist-packages/ipykernel_launcher.py:25: UserWarning: To copy construct from a tensor, it is recommended to use sourceTensor.clone().detach() or sourceTensor.clone().detach().requires_grad_(True), rather than torch.tensor(sourceTensor).\n"
          ],
          "name": "stderr"
        },
        {
          "output_type": "stream",
          "text": [
            "Accuracy of the network on Train data: 99.42841210093405 %\n"
          ],
          "name": "stdout"
        }
      ]
    },
    {
      "cell_type": "code",
      "metadata": {
        "id": "xgyEDShniWmG"
      },
      "source": [
        "# PATH =r'/content/drive/My Drive/LSTM Pain No Pain (Collab)/Saved_Models/pain_model_GRU_20_epochs__90.41_test_accuracy.pth'\n",
        "# torch.save(model.state_dict(), PATH)"
      ],
      "execution_count": null,
      "outputs": []
    },
    {
      "cell_type": "code",
      "metadata": {
        "id": "-sjsW3e672VR",
        "colab": {
          "base_uri": "https://localhost:8080/"
        },
        "outputId": "e527886f-f0b0-48e6-c9e5-e86c740737f1"
      },
      "source": [
        "end = time.time()\n",
        "print('Time taken: ',end - start)"
      ],
      "execution_count": null,
      "outputs": [
        {
          "output_type": "stream",
          "text": [
            "Time taken:  172.11229467391968\n"
          ],
          "name": "stdout"
        }
      ]
    },
    {
      "cell_type": "code",
      "metadata": {
        "id": "-wkut7W2iWoL"
      },
      "source": [
        "# import pandas as pd"
      ],
      "execution_count": null,
      "outputs": []
    },
    {
      "cell_type": "code",
      "metadata": {
        "id": "GRr37LvUtlRt"
      },
      "source": [
        "# # initialize list of lists \n",
        "# data = [['tom', 10], ['nick', 15], ['juli', 14]] \n",
        "  \n",
        "# # Create the pandas DataFrame \n",
        "# df = pd.DataFrame(data, columns = ['Name', 'Age']) \n",
        "  \n",
        "# # print dataframe. \n",
        "# df "
      ],
      "execution_count": null,
      "outputs": []
    },
    {
      "cell_type": "code",
      "metadata": {
        "id": "tBCWNemhtszm"
      },
      "source": [
        "# a='_test_'\n",
        "# b='_save_'\n",
        "# df.to_csv(r'/content/drive/My Drive/LSTM Pain No Pain (Collab)/Output/sample'+a+b+'.csv', index = False)"
      ],
      "execution_count": null,
      "outputs": []
    },
    {
      "cell_type": "code",
      "metadata": {
        "id": "q1dmyieyuHJe"
      },
      "source": [
        ""
      ],
      "execution_count": null,
      "outputs": []
    }
  ]
}