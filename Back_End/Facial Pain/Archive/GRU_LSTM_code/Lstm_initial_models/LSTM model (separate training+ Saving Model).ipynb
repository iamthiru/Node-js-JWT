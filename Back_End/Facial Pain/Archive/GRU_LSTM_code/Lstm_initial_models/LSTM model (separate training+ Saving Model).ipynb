{
 "cells": [
  {
   "cell_type": "code",
   "execution_count": 59,
   "metadata": {},
   "outputs": [],
   "source": [
    "import os\n",
    "import shutil\n",
    "import torch\n",
    "import torch.nn as nn\n",
    "import torchvision\n",
    "import torchvision.transforms as transforms\n",
    "from torch.utils.data import Dataset, DataLoader\n",
    "import numpy as np\n",
    "import math"
   ]
  },
  {
   "cell_type": "code",
   "execution_count": 60,
   "metadata": {},
   "outputs": [],
   "source": [
    "## Creating a dataset for Pain related frames\n",
    "\n",
    "class PainDataset(Dataset):\n",
    "    \n",
    "    def __init__(self):\n",
    "        # Data Loading from csv files to numpy and torch tensors\n",
    "        xy = np.loadtxt('C:/Users/Nischal/Desktop/BioVid_split/pain/Pain_features_and_labels_071309_w_21_pain.csv', delimiter=\",\",dtype=np.float32,skiprows=1)\n",
    "        self.x=torch.from_numpy(xy[:7921,:-1])\n",
    "        self.y=torch.from_numpy(xy[:,[-1]])\n",
    "        self.n_samples = 7920 ## Adjusted total number of the frames to match as a multiple of features*sequence\n",
    "        \n",
    "    def __getitem__(self, index):\n",
    "        # dataset[0]\n",
    "        return self.x[index], self.y[index]\n",
    "    \n",
    "    def __len__(self):\n",
    "        # Len(dataset)\n",
    "        return self.n_samples\n",
    "        "
   ]
  },
  {
   "cell_type": "code",
   "execution_count": 61,
   "metadata": {},
   "outputs": [],
   "source": [
    "# Test code to check length of dataset\n",
    "\n",
    "# dataset = PainDataset()\n",
    "# print(len(PainDataset()))\n",
    "# dataloader = DataLoader(dataset=dataset, batch_size=10, shuffle= False)\n",
    "\n",
    "# dataiter = iter(dataloader)\n",
    "# data = dataiter.next()\n",
    "# features, labels =data\n",
    "# print(len(features[0]))"
   ]
  },
  {
   "cell_type": "code",
   "execution_count": 77,
   "metadata": {},
   "outputs": [],
   "source": [
    "## Main part of code, Building architecture and training for the Pain labels\n",
    "\n",
    "# Device configuration for CPU or GPU\n",
    "# device = torch.device('cuda' if torch.cuda.is_available() else 'cpu')\n",
    "# device = torch.device('cpu')\n",
    "device = torch.device('cuda')\n",
    "\n",
    "# Hyper-parameters \n",
    "# input_size = 18 AU (Both presence(1) and intensities(17) )\n",
    "num_classes = 2 ## (Binary classification as pain(0) or no pain(1) )\n",
    "num_epochs = 5\n",
    "batch_size = 10\n",
    "learning_rate = 0.0001\n",
    "\n",
    "input_size = 18\n",
    "sequence_length = 10\n",
    "hidden_size = 128\n",
    "num_layers = 2\n",
    "\n",
    "\n",
    "## PAIN DATASET\n",
    "\n",
    "dataset = PainDataset()\n",
    "\n",
    "train_loader = DataLoader(dataset=dataset, batch_size=batch_size, shuffle= False)\n",
    "test_loader = DataLoader(dataset=dataset, batch_size=batch_size, shuffle= False)\n",
    "\n",
    "\n",
    "# Fully connected neural network with one hidden layer\n",
    "class RNN(nn.Module):\n",
    "    def __init__(self, input_size, hidden_size, num_layers, num_classes):\n",
    "        super(RNN, self).__init__()\n",
    "        self.num_layers = num_layers\n",
    "        self.hidden_size = hidden_size\n",
    "        # self.lstm = nn.LSTM(input_size, hidden_size, num_layers, batch_first=True)\n",
    "        # -> x needs to be: (batch_size, seq, input_size)\n",
    "        \n",
    "        # or:\n",
    "        self.lstm = nn.LSTM(input_size, hidden_size, num_layers, batch_first=True)\n",
    "        # Can add sigmoid here itself ################################################## \n",
    "        self.fc = nn.Linear(hidden_size, num_classes)\n",
    "        \n",
    "    def forward(self, x):\n",
    "        # Set initial hidden states (and cell states for LSTM)\n",
    "        h0 = torch.zeros(self.num_layers, x.size(0), self.hidden_size).to(device) \n",
    "        c0 = torch.zeros(self.num_layers, x.size(0), self.hidden_size).to(device) \n",
    "        \n",
    "        # Check list sizes here to match required lengths\n",
    "        # x: (n, 28, 28), h0: (2, n, 128)\n",
    "        \n",
    "        # Forward propagate RNN\n",
    "        out, _ = self.lstm(x, (h0,c0))  \n",
    "        \n",
    "        # out: tensor of shape (batch_size, seq_length, hidden_size)\n",
    "        # out: (n, 28, 128)\n",
    "        \n",
    "        # Decode the hidden state of the last time step\n",
    "        out = out[:, -1, :]\n",
    "        # out: (n, 128)\n",
    "        \n",
    "        out = self.fc(out)\n",
    "        # out: (n, 2)\n",
    "        return out\n",
    "\n",
    "model = RNN(input_size, hidden_size, num_layers, num_classes).to(device)\n",
    "\n",
    "# Loss and optimizer setting\n",
    "# criterion = nn.CrossEntropyLoss() ## Useful for later stage where we might have to use pain levels\n",
    "criterion = nn.BCELoss()\n",
    "m = nn.Sigmoid()\n",
    "optimizer = torch.optim.Adam(model.parameters(), lr=learning_rate)  \n"
   ]
  },
  {
   "cell_type": "code",
   "execution_count": 78,
   "metadata": {},
   "outputs": [
    {
     "name": "stdout",
     "output_type": "stream",
     "text": [
      "Epoch [1/5], Step [100/792], Loss: 0.0669\n",
      "Epoch [1/5], Step [200/792], Loss: 0.0088\n",
      "Epoch [1/5], Step [300/792], Loss: 0.0058\n",
      "Epoch [1/5], Step [400/792], Loss: 0.0041\n",
      "Epoch [1/5], Step [500/792], Loss: 0.0032\n",
      "Epoch [1/5], Step [600/792], Loss: 0.0025\n",
      "Epoch [1/5], Step [700/792], Loss: 0.0020\n",
      "Epoch [2/5], Step [100/792], Loss: 0.0014\n",
      "Epoch [2/5], Step [200/792], Loss: 0.0012\n",
      "Epoch [2/5], Step [300/792], Loss: 0.0011\n",
      "Epoch [2/5], Step [400/792], Loss: 0.0009\n",
      "Epoch [2/5], Step [500/792], Loss: 0.0008\n",
      "Epoch [2/5], Step [600/792], Loss: 0.0007\n",
      "Epoch [2/5], Step [700/792], Loss: 0.0006\n",
      "Epoch [3/5], Step [100/792], Loss: 0.0005\n",
      "Epoch [3/5], Step [200/792], Loss: 0.0005\n",
      "Epoch [3/5], Step [300/792], Loss: 0.0004\n",
      "Epoch [3/5], Step [400/792], Loss: 0.0004\n",
      "Epoch [3/5], Step [500/792], Loss: 0.0004\n",
      "Epoch [3/5], Step [600/792], Loss: 0.0003\n",
      "Epoch [3/5], Step [700/792], Loss: 0.0003\n",
      "Epoch [4/5], Step [100/792], Loss: 0.0003\n",
      "Epoch [4/5], Step [200/792], Loss: 0.0002\n",
      "Epoch [4/5], Step [300/792], Loss: 0.0002\n",
      "Epoch [4/5], Step [400/792], Loss: 0.0002\n",
      "Epoch [4/5], Step [500/792], Loss: 0.0002\n",
      "Epoch [4/5], Step [600/792], Loss: 0.0002\n",
      "Epoch [4/5], Step [700/792], Loss: 0.0002\n",
      "Epoch [5/5], Step [100/792], Loss: 0.0001\n",
      "Epoch [5/5], Step [200/792], Loss: 0.0001\n",
      "Epoch [5/5], Step [300/792], Loss: 0.0001\n",
      "Epoch [5/5], Step [400/792], Loss: 0.0001\n",
      "Epoch [5/5], Step [500/792], Loss: 0.0001\n",
      "Epoch [5/5], Step [600/792], Loss: 0.0001\n",
      "Epoch [5/5], Step [700/792], Loss: 0.0001\n"
     ]
    }
   ],
   "source": [
    "## Pain label training for the LSTM model\n",
    "\n",
    "# Train the model\n",
    "n_total_steps = len(train_loader)\n",
    "output_list=[]\n",
    "for epoch in range(num_epochs):\n",
    "    for i, (features, labels) in enumerate(train_loader):  \n",
    "        # origin shape: [N, 1, 28, 28]\n",
    "        # resized: [N, 28, 28]\n",
    "        features = features.reshape(-1, sequence_length, input_size).to(device)\n",
    "#         labels=torch.ones([2], dtype=torch.float32)\n",
    "        a=labels.numpy()\n",
    "        a=np.round(a.mean())\n",
    "        a=[a,a]\n",
    "        labels=torch.tensor(a,dtype= torch.float32)\n",
    "        labels = labels.to(device)\n",
    "        \n",
    "        # Forward pass\n",
    "        outputs = model(features)\n",
    "        output_list.append(outputs[0][0])\n",
    "        loss = criterion(m(outputs), labels)\n",
    "        \n",
    "        # Backward and optimize\n",
    "        optimizer.zero_grad()\n",
    "        loss.backward()\n",
    "        optimizer.step()\n",
    "        \n",
    "        if (i+1) % 100 == 0:\n",
    "#             print(len(output_list))\n",
    "            print (f'Epoch [{epoch+1}/{num_epochs}], Step [{i+1}/{n_total_steps}], Loss: {loss.item():.4f}')"
   ]
  },
  {
   "cell_type": "code",
   "execution_count": 79,
   "metadata": {},
   "outputs": [],
   "source": [
    "# SAVING THE MODEL\n",
    "PATH =r'C:\\Users\\Nischal\\Desktop\\LSTM model\\saved_model\\pain_model.pth'\n",
    "torch.save(model.state_dict(), PATH)\n",
    "\n",
    "\n",
    "\n",
    "# torch.save(model.state_dict(), 'path')\n",
    "# # weights/xyz.pt\n",
    "# model.load_state_dict(torch.load('path', map_location=torch.device('cpu')))"
   ]
  },
  {
   "cell_type": "code",
   "execution_count": 80,
   "metadata": {},
   "outputs": [
    {
     "data": {
      "text/plain": [
       "<All keys matched successfully>"
      ]
     },
     "execution_count": 80,
     "metadata": {},
     "output_type": "execute_result"
    }
   ],
   "source": [
    "model.load_state_dict(torch.load(PATH, map_location=torch.device('cuda')))"
   ]
  },
  {
   "cell_type": "code",
   "execution_count": 81,
   "metadata": {},
   "outputs": [],
   "source": [
    "class NoPainDataset(Dataset):\n",
    "    \n",
    "    def __init__(self):\n",
    "        # Data Loading\n",
    "        xy = np.loadtxt('C:/Users/Nischal/Desktop/BioVid_split/no_pain/Pain_features_and_labels_071309_w_21_no_pain.csv', delimiter=\",\",dtype=np.float32,skiprows=1)\n",
    "        self.x=torch.from_numpy(xy[:7921,:-1])\n",
    "        self.y=torch.from_numpy(xy[:,[-1]])\n",
    "        self.n_samples = 7920\n",
    "        \n",
    "    def __getitem__(self, index):\n",
    "        # dataset[0]\n",
    "        return self.x[index], self.y[index]\n",
    "    \n",
    "    def __len__(self):\n",
    "        # Len(dataset)\n",
    "        return self.n_samples"
   ]
  },
  {
   "cell_type": "code",
   "execution_count": 82,
   "metadata": {},
   "outputs": [
    {
     "name": "stdout",
     "output_type": "stream",
     "text": [
      "Epoch [1/5], Step [100/792], Loss: 0.4674\n",
      "Epoch [1/5], Step [200/792], Loss: 0.0437\n",
      "Epoch [1/5], Step [300/792], Loss: 0.0137\n",
      "Epoch [1/5], Step [400/792], Loss: 0.0078\n",
      "Epoch [1/5], Step [500/792], Loss: 0.0055\n",
      "Epoch [1/5], Step [600/792], Loss: 0.0042\n",
      "Epoch [1/5], Step [700/792], Loss: 0.0035\n",
      "Epoch [2/5], Step [100/792], Loss: 0.0030\n",
      "Epoch [2/5], Step [200/792], Loss: 0.0026\n",
      "Epoch [2/5], Step [300/792], Loss: 0.0023\n",
      "Epoch [2/5], Step [400/792], Loss: 0.0018\n",
      "Epoch [2/5], Step [500/792], Loss: 0.0017\n",
      "Epoch [2/5], Step [600/792], Loss: 0.0015\n",
      "Epoch [2/5], Step [700/792], Loss: 0.0014\n",
      "Epoch [3/5], Step [100/792], Loss: 0.0014\n",
      "Epoch [3/5], Step [200/792], Loss: 0.0013\n",
      "Epoch [3/5], Step [300/792], Loss: 0.0012\n",
      "Epoch [3/5], Step [400/792], Loss: 0.0010\n",
      "Epoch [3/5], Step [500/792], Loss: 0.0009\n",
      "Epoch [3/5], Step [600/792], Loss: 0.0009\n",
      "Epoch [3/5], Step [700/792], Loss: 0.0008\n",
      "Epoch [4/5], Step [100/792], Loss: 0.0008\n",
      "Epoch [4/5], Step [200/792], Loss: 0.0008\n",
      "Epoch [4/5], Step [300/792], Loss: 0.0007\n",
      "Epoch [4/5], Step [400/792], Loss: 0.0006\n",
      "Epoch [4/5], Step [500/792], Loss: 0.0006\n",
      "Epoch [4/5], Step [600/792], Loss: 0.0006\n",
      "Epoch [4/5], Step [700/792], Loss: 0.0006\n",
      "Epoch [5/5], Step [100/792], Loss: 0.0006\n",
      "Epoch [5/5], Step [200/792], Loss: 0.0005\n",
      "Epoch [5/5], Step [300/792], Loss: 0.0005\n",
      "Epoch [5/5], Step [400/792], Loss: 0.0004\n",
      "Epoch [5/5], Step [500/792], Loss: 0.0004\n",
      "Epoch [5/5], Step [600/792], Loss: 0.0004\n",
      "Epoch [5/5], Step [700/792], Loss: 0.0004\n"
     ]
    }
   ],
   "source": [
    "dataset = NoPainDataset()\n",
    "\n",
    "train_loader = DataLoader(dataset=dataset, batch_size=batch_size, shuffle= False)\n",
    "test_loader = DataLoader(dataset=dataset, batch_size=batch_size, shuffle= False)\n",
    "\n",
    "## No Pain label training for the LSTM model\n",
    "# model.train()\n",
    "# Train the model\n",
    "for epoch in range(num_epochs):\n",
    "    for i, (features, labels) in enumerate(train_loader):  \n",
    "        # origin shape: [N, 1, 28, 28]\n",
    "        # resized: [N, 28, 28]\n",
    "        features = features.reshape(-1, sequence_length, input_size).to(device)\n",
    "#         labels=torch.ones([2], dtype=torch.float32)\n",
    "        a=labels.numpy()\n",
    "        a=np.round(a.mean())\n",
    "        a=[a,a]\n",
    "        labels=torch.tensor(a,dtype= torch.float32)\n",
    "        labels = labels.to(device)\n",
    "        \n",
    "        # Forward pass\n",
    "        outputs = model(features)\n",
    "#         print(outputs)\n",
    "        loss = criterion(m(outputs), labels)\n",
    "        \n",
    "        # Backward and optimize\n",
    "        optimizer.zero_grad()\n",
    "        loss.backward()\n",
    "        optimizer.step()\n",
    "        \n",
    "        if (i+1) % 100 == 0:\n",
    "            print (f'Epoch [{epoch+1}/{num_epochs}], Step [{i+1}/{n_total_steps}], Loss: {loss.item():.4f}')"
   ]
  },
  {
   "cell_type": "code",
   "execution_count": 83,
   "metadata": {},
   "outputs": [
    {
     "name": "stdout",
     "output_type": "stream",
     "text": [
      "Accuracy of the network on test data: 0.0 %\n"
     ]
    }
   ],
   "source": [
    "## Testing the model for pain labels\n",
    "\n",
    "model.eval()\n",
    "\n",
    "dataset = PainDataset()\n",
    "test_loader = DataLoader(dataset=dataset, batch_size=batch_size, shuffle= False)\n",
    "\n",
    "# Test the model\n",
    "# In test phase, we don't need to compute gradients (for memory efficiency)\n",
    "with torch.no_grad():\n",
    "    n_correct = 0\n",
    "    n_samples = 0\n",
    "    for features, labels in test_loader:\n",
    "        features = features.reshape(-1, sequence_length, input_size).to(device)\n",
    "#         print('Feature',features[0])\n",
    "        a=labels.numpy()\n",
    "        a=np.round(a.mean())\n",
    "        a=[a,a]\n",
    "        labels=torch.tensor(a,dtype= torch.float32).to(device)\n",
    "#         labels=torch.ones([2], dtype=torch.float32)\n",
    "        outputs = model(features)\n",
    "        outputs=m(outputs)\n",
    "#         print('labels',labels)\n",
    "        # max returns (value ,index)\n",
    "        _, predicted = torch.max(outputs.data, 1)\n",
    "#         print(predicted)\n",
    "        n_samples += labels.size(0)\n",
    "        n_correct += (predicted == labels).sum().item()\n",
    "\n",
    "    acc = 100.0 * n_correct / n_samples\n",
    "    print(f'Accuracy of the network on test data: {acc} %')"
   ]
  },
  {
   "cell_type": "code",
   "execution_count": 84,
   "metadata": {},
   "outputs": [
    {
     "name": "stdout",
     "output_type": "stream",
     "text": [
      "Accuracy of the network on test data: 100.0 %\n"
     ]
    }
   ],
   "source": [
    "## Testing the model for no pain labels\n",
    "\n",
    "dataset = NoPainDataset()\n",
    "\n",
    "train_loader = DataLoader(dataset=dataset, batch_size=batch_size, shuffle= False)\n",
    "test_loader = DataLoader(dataset=dataset, batch_size=batch_size, shuffle= False)\n",
    "\n",
    "\n",
    "with torch.no_grad():\n",
    "    n_correct = 0\n",
    "    n_samples = 0\n",
    "    for features, labels in test_loader:\n",
    "        features = features.reshape(-1, sequence_length, input_size).to(device)\n",
    "        a=labels.numpy()\n",
    "        a=np.round(a.mean())\n",
    "        a=[a,a]\n",
    "        labels=torch.tensor(a,dtype= torch.float32).to(device)\n",
    "#         print(labels)\n",
    "        outputs = model(features)\n",
    "        outputs=m(outputs)\n",
    "#         print(outputs)\n",
    "        # max returns (value ,index)\n",
    "        _, predicted = torch.max(outputs.data, 1)\n",
    "#         print(predicted)\n",
    "        n_samples += labels.size(0)\n",
    "        n_correct += (predicted == labels).sum().item()\n",
    "\n",
    "    acc = 100.0 * n_correct / n_samples\n",
    "    print(f'Accuracy of the network on test data: {acc} %')"
   ]
  },
  {
   "cell_type": "code",
   "execution_count": 53,
   "metadata": {},
   "outputs": [
    {
     "ename": "IndexError",
     "evalue": "Dimension out of range (expected to be in range of [-1, 0], but got 1)",
     "output_type": "error",
     "traceback": [
      "\u001b[1;31m---------------------------------------------------------------------------\u001b[0m",
      "\u001b[1;31mIndexError\u001b[0m                                Traceback (most recent call last)",
      "\u001b[1;32m<ipython-input-53-ec01cde64e7b>\u001b[0m in \u001b[0;36m<module>\u001b[1;34m\u001b[0m\n\u001b[0;32m      1\u001b[0m \u001b[0ma\u001b[0m\u001b[1;33m=\u001b[0m\u001b[1;33m[\u001b[0m\u001b[1;36m0.\u001b[0m\u001b[1;33m,\u001b[0m \u001b[1;36m0.\u001b[0m\u001b[1;33m]\u001b[0m\u001b[1;33m\u001b[0m\u001b[1;33m\u001b[0m\u001b[0m\n\u001b[0;32m      2\u001b[0m \u001b[0mtest\u001b[0m\u001b[1;33m=\u001b[0m\u001b[0mtorch\u001b[0m\u001b[1;33m.\u001b[0m\u001b[0mtensor\u001b[0m\u001b[1;33m(\u001b[0m\u001b[0ma\u001b[0m\u001b[1;33m,\u001b[0m \u001b[0mdevice\u001b[0m\u001b[1;33m=\u001b[0m\u001b[1;34m'cuda:0'\u001b[0m\u001b[1;33m)\u001b[0m\u001b[1;33m\u001b[0m\u001b[1;33m\u001b[0m\u001b[0m\n\u001b[1;32m----> 3\u001b[1;33m \u001b[0mtorch\u001b[0m\u001b[1;33m.\u001b[0m\u001b[0mmax\u001b[0m\u001b[1;33m(\u001b[0m\u001b[0mtest\u001b[0m\u001b[1;33m,\u001b[0m \u001b[1;36m1\u001b[0m\u001b[1;33m)\u001b[0m\u001b[1;33m\u001b[0m\u001b[1;33m\u001b[0m\u001b[0m\n\u001b[0m",
      "\u001b[1;31mIndexError\u001b[0m: Dimension out of range (expected to be in range of [-1, 0], but got 1)"
     ]
    }
   ],
   "source": [
    "a=[0., 0.]\n",
    "test=torch.tensor(a, device='cuda:0')\n",
    "torch.max(test, 1)"
   ]
  },
  {
   "cell_type": "code",
   "execution_count": 85,
   "metadata": {},
   "outputs": [
    {
     "name": "stdout",
     "output_type": "stream",
     "text": [
      "7920\n",
      "10\n"
     ]
    }
   ],
   "source": [
    "# Test code to check length of dataset\n",
    "\n",
    "dataset = PainDataset()\n",
    "print(len(PainDataset()))\n",
    "dataloader = DataLoader(dataset=dataset, batch_size=10, shuffle= False)\n",
    "\n",
    "dataiter = iter(dataloader)\n",
    "data = dataiter.next()\n",
    "features, labels =data\n",
    "print(len(features))"
   ]
  },
  {
   "cell_type": "code",
   "execution_count": 86,
   "metadata": {},
   "outputs": [
    {
     "name": "stdout",
     "output_type": "stream",
     "text": [
      "torch.Size([1, 10, 18])\n",
      "tensor([[0.0004, 0.0004]], device='cuda:0', grad_fn=<SigmoidBackward>)\n"
     ]
    }
   ],
   "source": [
    "features = features.reshape(-1, sequence_length, input_size).to(device)\n",
    "print(features.shape)\n",
    "ou = model(features)\n",
    "ou=m(ou)\n",
    "print(ou)"
   ]
  },
  {
   "cell_type": "code",
   "execution_count": null,
   "metadata": {},
   "outputs": [],
   "source": []
  }
 ],
 "metadata": {
  "kernelspec": {
   "display_name": "Python 3",
   "language": "python",
   "name": "python3"
  },
  "language_info": {
   "codemirror_mode": {
    "name": "ipython",
    "version": 3
   },
   "file_extension": ".py",
   "mimetype": "text/x-python",
   "name": "python",
   "nbconvert_exporter": "python",
   "pygments_lexer": "ipython3",
   "version": "3.6.10"
  }
 },
 "nbformat": 4,
 "nbformat_minor": 4
}
