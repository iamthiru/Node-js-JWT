{
 "cells": [
  {
   "cell_type": "markdown",
   "metadata": {},
   "source": [
    "## Many to One (Label is last element in sequence) (One output per sequence) (No Shuffling or batching)"
   ]
  },
  {
   "cell_type": "markdown",
   "metadata": {},
   "source": [
    "## Import dependencies"
   ]
  },
  {
   "cell_type": "code",
   "execution_count": 1,
   "metadata": {},
   "outputs": [],
   "source": [
    "import os\n",
    "import shutil\n",
    "import torch\n",
    "import torch.nn as nn\n",
    "import torchvision\n",
    "import torchvision.transforms as transforms\n",
    "from torch.utils.data import Dataset, DataLoader\n",
    "import numpy as np\n",
    "import math\n",
    "from torchsummary import summary\n",
    "import matplotlib.pyplot as plt\n",
    "import torch.nn.functional as F"
   ]
  },
  {
   "cell_type": "markdown",
   "metadata": {},
   "source": [
    "## Loading the csv files and pre processing to remove header and delimiter"
   ]
  },
  {
   "cell_type": "code",
   "execution_count": 2,
   "metadata": {},
   "outputs": [],
   "source": [
    "xy_pain = np.loadtxt('C:/Users/Nischal/Desktop/BioVid_split/pain/Pain_features_and_labels_071309_w_21_pain.csv', delimiter=\",\",dtype=np.float32,skiprows=1)\n",
    "xy_nopain = np.loadtxt('C:/Users/Nischal/Desktop/BioVid_split/no_pain/Pain_features_and_labels_071309_w_21_no_pain.csv', delimiter=\",\",dtype=np.float32,skiprows=1)\n",
    "\n",
    "## Making pain and no pain classes to be of equal sizes\n",
    "x_p=(xy_pain[:,:-1])\n",
    "y_p=(xy_pain[:,[-1]])\n",
    "x_np=(xy_nopain[:len(x_p),:-1])\n",
    "y_np=(xy_nopain[:len(x_p),[-1]])\n",
    "# print(len(x_np[0]),len(x_p))\n",
    "\n",
    "###### Test train split:\n",
    "train=np.round(len(x_p)*0.7)\n",
    "test=len(x_p)-train\n",
    "\n",
    "x_p_train= (x_p[:int(train)])\n",
    "x_p_test = (x_p[int(train):])\n",
    "\n",
    "y_p_train= y_p[:int(train)]\n",
    "y_p_test = y_p[int(train):]\n",
    "\n",
    "x_np_train= (x_np[:int(train)])\n",
    "x_np_test = (x_np[int(train):])\n",
    "\n",
    "y_np_train= y_np[:int(train)]\n",
    "y_np_test = y_np[int(train):]\n",
    "\n",
    "x_train= np.vstack((x_p_train,x_np_train))\n",
    "x_test = np.vstack((x_p_test,x_np_test))\n",
    "\n",
    "y_train= np.vstack((y_p_train,y_np_train))\n",
    "y_test = np.vstack((y_p_test,y_np_test))\n",
    "\n",
    "only_pain_test_x = x_p_test\n",
    "only_pain_test_y = y_p_test\n",
    "\n",
    "# print(len(x_test),len(y_train))\n",
    "# print(x_p_train[0])\n",
    "# print(x_np_train[0])"
   ]
  },
  {
   "cell_type": "code",
   "execution_count": 3,
   "metadata": {},
   "outputs": [],
   "source": [
    "## Creating a dataset for Pain related frames\n",
    "\n",
    "# xy_pain = np.loadtxt('C:/Users/Nischal/Desktop/BioVid_split/pain/Pain_features_and_labels_071309_w_21_pain.csv', delimiter=\",\",dtype=np.float32,skiprows=1)\n",
    "# xy_nopain = np.loadtxt('C:/Users/Nischal/Desktop/BioVid_split/no_pain/Pain_features_and_labels_071309_w_21_no_pain.csv', delimiter=\",\",dtype=np.float32,skiprows=1)\n",
    "# x_p=(xy_pain[:,:-1])\n",
    "# y_p=(xy_pain[:,[-1]])\n",
    "# x_np=(xy_nopain[:,:-1])\n",
    "# y_np=(xy_nopain[:,[-1]])\n",
    "\n",
    "\n",
    "\n",
    "\n",
    "def lstm_data_transform(x_data, y_data, num_steps=30):\n",
    "    \"\"\" Changes data to the format for LSTM training \n",
    "for sliding window approach \"\"\"\n",
    "    # Prepare the list for the transformed data\n",
    "    X, y = list(), list()\n",
    "    # Loop of the entire data set\n",
    "    for i in range(x_data.shape[0]):\n",
    "        # compute a new (sliding window) index\n",
    "        end_ix = i + num_steps\n",
    "        # if index is larger than the size of the dataset, we stop\n",
    "        if end_ix >= x_data.shape[0]:\n",
    "            break\n",
    "        # Get a sequence of data for x\n",
    "        seq_X = x_data[i:end_ix]\n",
    "        # Get only the last element of the sequency for y\n",
    "        seq_y = y_data[end_ix]\n",
    "        # Append the list with sequencies\n",
    "        X.append(seq_X)\n",
    "        y.append(seq_y)\n",
    "    # Make final arrays\n",
    "    x_array = np.array(X)\n",
    "    y_array = np.array(y)\n",
    "    x=torch.from_numpy(x_array)\n",
    "    y=torch.from_numpy(y_array)\n",
    "    return x, y\n",
    "\n",
    "## Sequence processing test and train data\n",
    "\n",
    "train_x,train_y=lstm_data_transform(x_train,y_train)\n",
    "test_x,test_y=lstm_data_transform(x_test,y_test)\n",
    "\n",
    "## Only test for pain\n",
    "\n",
    "OP_test_x,OP_test_y=lstm_data_transform(only_pain_test_x,only_pain_test_y)"
   ]
  },
  {
   "cell_type": "code",
   "execution_count": 4,
   "metadata": {},
   "outputs": [
    {
     "data": {
      "text/plain": [
       "[<matplotlib.lines.Line2D at 0x1492e4f6898>]"
      ]
     },
     "execution_count": 4,
     "metadata": {},
     "output_type": "execute_result"
    },
    {
     "data": {
      "image/png": "[encoded data removed]",
      "text/plain": [
       "<Figure size 432x288 with 1 Axes>"
      ]
     },
     "metadata": {
      "needs_background": "light"
     },
     "output_type": "display_data"
    }
   ],
   "source": [
    "plt.plot(test_y)"
   ]
  },
  {
   "cell_type": "code",
   "execution_count": 5,
   "metadata": {},
   "outputs": [],
   "source": [
    "## Main part of code, Building architecture and training for the Pain labels\n",
    "\n",
    "# Device configuration for CPU or GPU\n",
    "# device = torch.device('cuda' if torch.cuda.is_available() else 'cpu')\n",
    "# device = torch.device('cpu')\n",
    "device = torch.device('cuda')\n",
    "\n",
    "# Hyper-parameters \n",
    "# input_size = 18 AU (Both presence(1) and intensities(17) )\n",
    "num_classes = 2 ## (Binary classification as pain(0) or no pain(1) )\n",
    "num_epochs = 1\n",
    "batch_size = 1\n",
    "learning_rate = 0.0001\n",
    "\n",
    "input_size = 18\n",
    "sequence_length = 30\n",
    "hidden_size = 50\n",
    "num_layers = 5\n",
    "\n",
    "\n",
    "## PAIN DATASET\n",
    "\n",
    "\n",
    "\n",
    "# Fully connected neural network with one hidden layer\n",
    "class RNN(nn.Module):\n",
    "    def __init__(self, input_size, hidden_size, num_layers, num_classes):\n",
    "        super(RNN, self).__init__()\n",
    "        self.num_layers = num_layers\n",
    "        self.hidden_size = hidden_size\n",
    "        # self.lstm = nn.LSTM(input_size, hidden_size, num_layers, batch_first=True)\n",
    "        # -> x needs to be: (batch_size, seq, input_size)\n",
    "        \n",
    "        # or:\n",
    "        self.lstm = nn.LSTM(input_size, hidden_size, num_layers, batch_first=True)\n",
    "        # Can add sigmoid here itself ################################################## \n",
    "        self.fc = nn.Linear(hidden_size, num_classes)\n",
    "        \n",
    "    def forward(self, x):\n",
    "        # Set initial hidden states (and cell states for LSTM)\n",
    "        h0 = torch.ones(self.num_layers, x.size(0), self.hidden_size).to(device) \n",
    "        c0 = torch.ones(self.num_layers, x.size(0), self.hidden_size).to(device) \n",
    "        \n",
    "        # Check list sizes here to match required lengths\n",
    "        # x: (n, 28, 28), h0: (2, n, 128)\n",
    "        \n",
    "        # Forward propagate RNN\n",
    "        out, _ = self.lstm(x, (h0,c0))  \n",
    "        \n",
    "        # out: tensor of shape (batch_size, seq_length, hidden_size)\n",
    "        # out: (n, 28, 128)\n",
    "        \n",
    "        # Decode the hidden state of the last time step\n",
    "        out = out[:, -1, :]\n",
    "        # out: (n, 128)\n",
    "#         F.log_softmax(self.linear(bow_vec), dim=1)\n",
    "        out = self.fc(out)\n",
    "        out= F.log_softmax((out),dim=1)\n",
    "        # out: (n, 2)\n",
    "        return out\n",
    "\n",
    "model = RNN(input_size, hidden_size, num_layers, num_classes).to(device)\n",
    "\n",
    "# Loss and optimizer setting\n",
    "# criterion = nn.CrossEntropyLoss() ## Useful for later stage where we might have to use pain levels\n",
    "criterion = nn.NLLLoss()\n",
    "# criterion = nn.BCELoss()\n",
    "# criterion = nn.BCEWithLogitsLoss()\n",
    "m = nn.Sigmoid()\n",
    "optimizer = torch.optim.Adam(model.parameters(), lr=learning_rate)  \n",
    "## Hinge loss try"
   ]
  },
  {
   "cell_type": "code",
   "execution_count": 6,
   "metadata": {},
   "outputs": [
    {
     "name": "stdout",
     "output_type": "stream",
     "text": [
      "=================================================================\n",
      "Layer (type:depth-idx)                   Param #\n",
      "=================================================================\n",
      "├─LSTM: 1-1                              95,600\n",
      "├─Linear: 1-2                            102\n",
      "=================================================================\n",
      "Total params: 95,702\n",
      "Trainable params: 95,702\n",
      "Non-trainable params: 0\n",
      "=================================================================\n",
      "RNN(\n",
      "  (lstm): LSTM(18, 50, num_layers=5, batch_first=True)\n",
      "  (fc): Linear(in_features=50, out_features=2, bias=True)\n",
      ")\n"
     ]
    }
   ],
   "source": [
    "summary(model,input_size=(1,5,18))\n",
    "print(model)"
   ]
  },
  {
   "cell_type": "code",
   "execution_count": 7,
   "metadata": {},
   "outputs": [
    {
     "name": "stdout",
     "output_type": "stream",
     "text": [
      "Epoch [1/1], Step [1000/11172], Loss: 0.001160\n",
      "Epoch [1/1], Step [2000/11172], Loss: 0.000426\n",
      "Epoch [1/1], Step [3000/11172], Loss: 0.000204\n",
      "Epoch [1/1], Step [4000/11172], Loss: 0.000109\n",
      "Epoch [1/1], Step [5000/11172], Loss: 0.000062\n",
      "Epoch [1/1], Step [6000/11172], Loss: 0.019085\n",
      "Epoch [1/1], Step [7000/11172], Loss: 0.002093\n",
      "Epoch [1/1], Step [8000/11172], Loss: 0.000873\n",
      "Epoch [1/1], Step [9000/11172], Loss: 0.000473\n",
      "Epoch [1/1], Step [10000/11172], Loss: 0.000284\n",
      "Epoch [1/1], Step [11000/11172], Loss: 0.000180\n"
     ]
    }
   ],
   "source": [
    "## Pain label training for the LSTM model\n",
    "\n",
    "# Train the model\n",
    "n_total_steps = len(train_x)\n",
    "i=0\n",
    "\n",
    "loss_count=[]\n",
    "for epoch in range(num_epochs):\n",
    "    loss_value=0.0\n",
    "    for features, labels in zip(train_x,train_y): \n",
    "        \n",
    "        features = features.reshape(-1, sequence_length, input_size).to(device)\n",
    "#         print(features.shape)\n",
    "        labels = labels.to(device)\n",
    "        # Forward pass\n",
    "        outputs = model(features)\n",
    "#         print(len(labels),len(m(outputs)[0]))\n",
    "#         print(\"sh\",features.shape)\n",
    "#         print('out',outputs.shape)\n",
    "#         print('lab',labels.shape)\n",
    "        loss = criterion(outputs, labels.long())\n",
    "        \n",
    "        # Backward and optimize\n",
    "        optimizer.zero_grad()\n",
    "        loss.backward()\n",
    "        optimizer.step()\n",
    "        i+=1\n",
    "        loss_value+=loss.item()\n",
    "        if (i+1) % 1000 == 0:\n",
    "            print (f'Epoch [{epoch+1}/{num_epochs}], Step [{i+1}/{n_total_steps}], Loss: {loss.item():.6f}')\n",
    "    loss_count.append(loss_value/len(train_x))\n",
    "       "
   ]
  },
  {
   "cell_type": "code",
   "execution_count": 8,
   "metadata": {},
   "outputs": [
    {
     "data": {
      "text/plain": [
       "[0.03144125911435141]"
      ]
     },
     "execution_count": 8,
     "metadata": {},
     "output_type": "execute_result"
    }
   ],
   "source": [
    "loss_count"
   ]
  },
  {
   "cell_type": "code",
   "execution_count": 9,
   "metadata": {},
   "outputs": [
    {
     "data": {
      "text/plain": [
       "[<matplotlib.lines.Line2D at 0x1492e3c56d8>]"
      ]
     },
     "execution_count": 9,
     "metadata": {},
     "output_type": "execute_result"
    },
    {
     "data": {
      "image/png": "[encoded data removed]",
      "text/plain": [
       "<Figure size 432x288 with 1 Axes>"
      ]
     },
     "metadata": {
      "needs_background": "light"
     },
     "output_type": "display_data"
    }
   ],
   "source": [
    "plt.plot(loss_count)"
   ]
  },
  {
   "cell_type": "code",
   "execution_count": 10,
   "metadata": {},
   "outputs": [],
   "source": [
    "# SAVING THE MODEL\n",
    "\n",
    "# PATH =r'C:\\Users\\Nischal\\Desktop\\LSTM model\\saved_model\\pain_model.pth'\n",
    "# torch.save(model.state_dict(), PATH)\n",
    "\n",
    "\n",
    "\n"
   ]
  },
  {
   "cell_type": "code",
   "execution_count": 11,
   "metadata": {},
   "outputs": [],
   "source": [
    "# model.load_state_dict(torch.load(PATH, map_location=torch.device('cuda')))"
   ]
  },
  {
   "cell_type": "code",
   "execution_count": 12,
   "metadata": {},
   "outputs": [
    {
     "name": "stdout",
     "output_type": "stream",
     "text": [
      "Accuracy of the network on test data: 50.314465408805034 %\n"
     ]
    }
   ],
   "source": [
    "## Testing the model for both labels\n",
    "\n",
    "model.eval()\n",
    "\n",
    "# Test the model\n",
    "# In test phase, we don't need to compute gradients (for memory efficiency)\n",
    "with torch.no_grad():\n",
    "    n_correct = 0\n",
    "    n_samples = 0\n",
    "    for features, labels in zip(test_x,test_y):\n",
    "        features = features.reshape(-1, sequence_length, input_size).to(device)\n",
    "        labels=labels.to(device)\n",
    "        \n",
    "        outputs = model(features)\n",
    "#         print(outputs)\n",
    "        _, predicted = torch.max(outputs.data, 1)\n",
    "        n_samples += labels.size(0)\n",
    "        n_correct += (predicted == labels.long()).sum().item()\n",
    "\n",
    "    acc = 100.0 * n_correct / n_samples\n",
    "    print(f'Accuracy of the network on test data: {acc} %')"
   ]
  },
  {
   "cell_type": "code",
   "execution_count": 14,
   "metadata": {},
   "outputs": [],
   "source": [
    "## Testing the model for pain labels\n",
    "\n",
    "# model.eval()\n",
    "\n",
    "# # Test the model\n",
    "# # In test phase, we don't need to compute gradients (for memory efficiency)\n",
    "# with torch.no_grad():\n",
    "#     n_correct = 0\n",
    "#     n_samples = 0\n",
    "#     for features, labels in zip(OP_test_x,OP_test_y):\n",
    "        \n",
    "#         features = features.reshape(-1, sequence_length, input_size).to(device)\n",
    "        \n",
    "#         outputs = model(features)\n",
    "# #         print(outputs)\n",
    "#         labels=labels.to(device)\n",
    "#         _, predicted = torch.max(outputs.data, 1)\n",
    "# #         print(predicted)\n",
    "#         n_samples += labels.size(0)\n",
    "#         n_correct += (predicted == labels.long()).sum().item()\n",
    "\n",
    "#     acc = 100.0 * n_correct / n_samples\n",
    "#     print(f'Accuracy of the network on test data: {acc} %')"
   ]
  },
  {
   "cell_type": "code",
   "execution_count": 13,
   "metadata": {},
   "outputs": [
    {
     "ename": "NameError",
     "evalue": "name 'output_list' is not defined",
     "output_type": "error",
     "traceback": [
      "\u001b[1;31m---------------------------------------------------------------------------\u001b[0m",
      "\u001b[1;31mNameError\u001b[0m                                 Traceback (most recent call last)",
      "\u001b[1;32m<ipython-input-13-260f541401b9>\u001b[0m in \u001b[0;36m<module>\u001b[1;34m\u001b[0m\n\u001b[1;32m----> 1\u001b[1;33m \u001b[0mlen\u001b[0m\u001b[1;33m(\u001b[0m\u001b[0moutput_list\u001b[0m\u001b[1;33m)\u001b[0m\u001b[1;33m\u001b[0m\u001b[1;33m\u001b[0m\u001b[0m\n\u001b[0m",
      "\u001b[1;31mNameError\u001b[0m: name 'output_list' is not defined"
     ]
    }
   ],
   "source": [
    "len(output_list)"
   ]
  },
  {
   "cell_type": "code",
   "execution_count": null,
   "metadata": {},
   "outputs": [],
   "source": []
  }
 ],
 "metadata": {
  "kernelspec": {
   "display_name": "Python 3",
   "language": "python",
   "name": "python3"
  },
  "language_info": {
   "codemirror_mode": {
    "name": "ipython",
    "version": 3
   },
   "file_extension": ".py",
   "mimetype": "text/x-python",
   "name": "python",
   "nbconvert_exporter": "python",
   "pygments_lexer": "ipython3",
   "version": "3.6.10"
  }
 },
 "nbformat": 4,
 "nbformat_minor": 4
}
