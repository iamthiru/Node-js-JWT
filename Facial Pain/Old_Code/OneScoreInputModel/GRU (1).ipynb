{
  "nbformat": 4,
  "nbformat_minor": 0,
  "metadata": {
    "colab": {
      "name": "GRU.ipynb",
      "provenance": [],
      "collapsed_sections": []
    },
    "kernelspec": {
      "display_name": "Python 3",
      "name": "python3"
    },
    "accelerator": "GPU"
  },
  "cells": [
    {
      "cell_type": "code",
      "metadata": {
        "id": "h453GaRCiTCv"
      },
      "source": [
        "import os\n",
        "import shutil\n",
        "import torch\n",
        "import torch.nn as nn\n",
        "import torchvision\n",
        "import torchvision.transforms as transforms\n",
        "from torch.utils.data import Dataset, DataLoader\n",
        "import numpy as np\n",
        "import math\n",
        "from torchsummary import summary\n",
        "import matplotlib.pyplot as plt\n",
        "import torch.nn.functional as F\n",
        "import time\n",
        "import math\n",
        "from scipy import stats"
      ],
      "execution_count": null,
      "outputs": []
    },
    {
      "cell_type": "code",
      "metadata": {
        "id": "Hn1Y7s09iWGb"
      },
      "source": [
        "def lstm_data_transform(x_data, y_data, num_steps=100):\n",
        "    \"\"\" Changes data to the format for LSTM training \n",
        "for sliding window approach \"\"\"\n",
        "    # Prepare the list for the transformed data\n",
        "    X, y = list(), list()\n",
        "\n",
        "    start_ix=0\n",
        "    end_ix=num_steps\n",
        "\n",
        "    # For the first sequence of frames: ########################################\n",
        "    seq_X = x_data[start_ix:end_ix]\n",
        "    mean_arr_y= y_data[start_ix:end_ix]\n",
        "    # Find most repeatitive label in labels in the sequence using mode\n",
        "    y_mean_label = stats.mode(mean_arr_y)\n",
        "    y_label = y_mean_label[0][0][0]\n",
        "    seq_y = y_label\n",
        "    ## Scale labels between 0 to 3 ################################\n",
        "    seq_y=seq_y-1.0\n",
        "    # Append the list with sequencies\n",
        "    X.append(seq_X)\n",
        "    y.append(seq_y)\n",
        "    ############################################################################\n",
        "\n",
        "    # Loop of the entire data set (apart from the first sequence)\n",
        "    for i in range(x_data.shape[0]):\n",
        "        # compute a new (sliding window) index\n",
        "        start_ix= start_ix + num_steps\n",
        "        end_ix = end_ix + num_steps\n",
        "        # if index is larger than the size of the dataset, we stop\n",
        "        if end_ix >= x_data.shape[0]:\n",
        "            break\n",
        "        # Get a sequence of data for x\n",
        "        seq_X = x_data[start_ix:end_ix]\n",
        "        # Get only the mean of the sequence labels and rounding the value for label of the sequency\n",
        "        mean_arr_y= y_data[start_ix:end_ix]\n",
        "        # y_mean_label=round(np.average(mean_arr_y))\n",
        "        # seq_y = y_mean_label\n",
        "        # print(y_mean_label)\n",
        "        # Finding the most repeatitive label in the list of labels in the given sequence by using mode function\n",
        "        y_mean_label = stats.mode(mean_arr_y)\n",
        "        y_label = y_mean_label[0][0][0]\n",
        "        seq_y = y_label\n",
        "\n",
        "        ## Scale labels between 0 to 3 ################################\n",
        "        seq_y=seq_y-1.0\n",
        "\n",
        "        # Append the list with sequencies\n",
        "        X.append(seq_X)\n",
        "        y.append(seq_y)\n",
        "    # Make final arrays\n",
        "    x_array = np.array(X)\n",
        "    y_array = np.array(y)\n",
        "    x=torch.from_numpy(x_array)\n",
        "    y=torch.from_numpy(y_array)\n",
        "    return x, y"
      ],
      "execution_count": null,
      "outputs": []
    },
    {
      "cell_type": "code",
      "metadata": {
        "id": "BA5uLqjd8ZtN"
      },
      "source": [
        "## Splitting Data into Train, Test and Validation:\n",
        "Train_split=0.7\n",
        "Test_split=0.15\n",
        "Validation_split=0.15"
      ],
      "execution_count": null,
      "outputs": []
    },
    {
      "cell_type": "code",
      "metadata": {
        "id": "2GxVDXzb-nHr"
      },
      "source": [
        "# with open('/content/drive/MyDrive/MultiPain/GRU/Data/071709_w_23.csv', 'r') as f:\n",
        "#   xy_pain = np.loadtxt(f, delimiter=\",\",dtype=np.float32,skiprows=1)\n",
        "\n",
        "# x_p=(xy_pain[:1,2:-19])\n",
        "# print(x_p.shape)\n",
        "# y_p=(xy_pain[:(math.floor(Train_split*len(xy_pain))),[-1]])"
      ],
      "execution_count": null,
      "outputs": []
    },
    {
      "cell_type": "code",
      "metadata": {
        "id": "N0KA5OqsiWUX"
      },
      "source": [
        "class PainDataset_Train(Dataset):\n",
        "    \"\"\" Pain dataset.\"\"\"\n",
        "\n",
        "    # Initialize your data, download, etc.\n",
        "    def __init__(self):\n",
        "        with open('/content/drive/MyDrive/One_score_input_model/Data/combined.csv', 'r') as f:\n",
        "        # with open('/content/drive/MyDrive/MultiPain/GRU/Data/071709_w_23.csv', 'r') as f:\n",
        "          xy_pain = np.loadtxt(f, delimiter=\",\",dtype=np.float32,skiprows=1)\n",
        "        \n",
        "        # x_p=(xy_pain[:(math.floor(Train_split*len(xy_pain))),2:-19])\n",
        "        # y_p=(xy_pain[:(math.floor(Train_split*len(xy_pain))),[-1]])\n",
        "\n",
        "        x_p=(xy_pain[:(math.floor(Train_split*len(xy_pain))),[-2]])\n",
        "        y_p=(xy_pain[:(math.floor(Train_split*len(xy_pain))),[-1]])\n",
        "       \n",
        "        x_sequences,y_sequences=lstm_data_transform(x_p,y_p)\n",
        "        \n",
        "        self.x_data = x_sequences\n",
        "        self.y_data = y_sequences\n",
        "                \n",
        "        # print(x_sequences)\n",
        "\n",
        "        self.len = x_sequences.shape[0]\n",
        "        \n",
        "    def __getitem__(self, index):\n",
        "        return self.x_data[index], torch.tensor(self.y_data[index])\n",
        "\n",
        "    def __len__(self):\n",
        "        return self.len"
      ],
      "execution_count": null,
      "outputs": []
    },
    {
      "cell_type": "code",
      "metadata": {
        "id": "wwETPVo-gLc2"
      },
      "source": [
        "# test_dataset = PainDataset_Train()\n",
        "# teest_loader = DataLoader(dataset=test_dataset,batch_size=1,shuffle=False)"
      ],
      "execution_count": null,
      "outputs": []
    },
    {
      "cell_type": "code",
      "metadata": {
        "id": "yBzcT6AIiAdd"
      },
      "source": [
        "class PainDataset_Validation(Dataset):\n",
        "    \"\"\" Pain dataset.\"\"\"\n",
        "\n",
        "    # Initialize your data, download, etc.\n",
        "    def __init__(self):\n",
        "        with open('/content/drive/MyDrive/One_score_input_model/Data/combined.csv', 'r') as f:\n",
        "        # with open('/content/drive/MyDrive/MultiPain/GRU/Data/071709_w_23.csv', 'r') as f:\n",
        "          xy_pain = np.loadtxt(f, delimiter=\",\",dtype=np.float32,skiprows=1)\n",
        "        x_p=(xy_pain[(math.floor(Train_split*len(xy_pain))):(math.floor((Train_split+Validation_split)*len(xy_pain))),[-2]])\n",
        "        y_p=(xy_pain[(math.floor(Train_split*len(xy_pain))):(math.floor((Train_split+Validation_split)*len(xy_pain))),[-1]])\n",
        "\n",
        "        x_sequences,y_sequences=lstm_data_transform(x_p,y_p)\n",
        "\n",
        "        self.x_data = x_sequences\n",
        "        self.y_data = y_sequences\n",
        "\n",
        "        self.len = x_sequences.shape[0]\n",
        "        \n",
        "\n",
        "    def __getitem__(self, index):\n",
        "        return self.x_data[index], torch.tensor(self.y_data[index])\n",
        "\n",
        "    def __len__(self):\n",
        "        return self.len"
      ],
      "execution_count": null,
      "outputs": []
    },
    {
      "cell_type": "code",
      "metadata": {
        "id": "S67wDFZpvex1"
      },
      "source": [
        "class PainDataset_Test(Dataset):\n",
        "    \"\"\" Pain dataset.\"\"\"\n",
        "\n",
        "    # Initialize your data, download, etc.\n",
        "    def __init__(self):\n",
        "        with open('/content/drive/MyDrive/One_score_input_model/Data/combined.csv', 'r') as f:\n",
        "        # with open('/content/drive/MyDrive/MultiPain/GRU/Data/071709_w_23.csv', 'r') as f:\n",
        "          xy_pain = np.loadtxt(f, delimiter=\",\",dtype=np.float32,skiprows=1)\n",
        "        \n",
        "        x_p=(xy_pain[(math.floor((Train_split+Validation_split)*len(xy_pain))):len(xy_pain),[-2]])\n",
        "        y_p=(xy_pain[(math.floor((Train_split+Validation_split)*len(xy_pain))):len(xy_pain),[-1]])\n",
        "        \n",
        "        x_sequences,y_sequences=lstm_data_transform(x_p,y_p)\n",
        "        \n",
        "        self.x_data = x_sequences\n",
        "        self.y_data = y_sequences\n",
        "        \n",
        "        self.len = x_sequences.shape[0]\n",
        "        \n",
        "\n",
        "    def __getitem__(self, index):\n",
        "        return self.x_data[index], torch.tensor(self.y_data[index])\n",
        "\n",
        "    def __len__(self):\n",
        "        return self.len"
      ],
      "execution_count": null,
      "outputs": []
    },
    {
      "cell_type": "code",
      "metadata": {
        "id": "MDAqY3EtTSMv"
      },
      "source": [
        "# test_dataset = PainDataset_Test()\n",
        "# teest_loader = DataLoader(dataset=test_dataset,batch_size=1,shuffle=False)"
      ],
      "execution_count": null,
      "outputs": []
    },
    {
      "cell_type": "code",
      "metadata": {
        "id": "bp7lf435XMmB",
        "colab": {
          "base_uri": "https://localhost:8080/"
        },
        "outputId": "c2e0f68e-1f6f-4a66-bc1e-3250c37ac4a5"
      },
      "source": [
        "print(\"Train_split: \",Train_split*100,\"% Test_split :\",Test_split*100,\"% Validation_split :\",Validation_split*100,\"% \")"
      ],
      "execution_count": null,
      "outputs": [
        {
          "output_type": "stream",
          "text": [
            "Train_split:  70.0 % Test_split : 15.0 % Validation_split : 15.0 % \n"
          ],
          "name": "stdout"
        }
      ]
    },
    {
      "cell_type": "code",
      "metadata": {
        "id": "Un6ySo2hiWXi"
      },
      "source": [
        "start = time.time()\n",
        "\n",
        "device = torch.device('cuda')\n",
        "\n",
        "# Hyper-parameters \n",
        "# input_size = 18 AU (Both presence(1) and intensities(17) \n",
        "num_classes = 4 ## (0,1,2 and 3 maps to pain levels of 1,2,3 and 4)\n",
        "num_epochs = 300\n",
        "batch_size = 5\n",
        "learning_rate = 0.0001\n",
        "\n",
        "input_size = 1\n",
        "sequence_length = 100\n",
        "hidden_size = 75\n",
        "num_layers = 4\n",
        "\n",
        "\n",
        "## PAIN DATASET\n",
        "\n",
        "## Add dataset here\n",
        "\n",
        "train_dataset = PainDataset_Train()\n",
        "train_loader = DataLoader(dataset=train_dataset,batch_size=20,shuffle=False)\n",
        "\n",
        "# Fully connected neural network with one hidden layer\n",
        "class RNN(nn.Module):\n",
        "    def __init__(self, input_size, hidden_size, num_layers, num_classes):\n",
        "        super(RNN, self).__init__()\n",
        "        self.num_layers = num_layers\n",
        "        self.hidden_size = hidden_size\n",
        "        # self.lstm = nn.LSTM(input_size, hidden_size, num_layers, batch_first=True)\n",
        "        # -> x needs to be: (batch_size, seq, input_size)\n",
        "        \n",
        "        self.gru = nn.GRU(input_size, hidden_size, num_layers, batch_first=True)\n",
        "        # Can add sigmoid here itself ################################################## \n",
        "        self.fc = nn.Linear(hidden_size, num_classes)\n",
        "        \n",
        "    def forward(self, x):\n",
        "        # Set initial hidden states (and cell states for LSTM)\n",
        "        h0 = torch.ones(self.num_layers, x.size(0), self.hidden_size).to(device) \n",
        "        \n",
        "        # Check list sizes here to match required lengths\n",
        "        # x: (n, 28, 28), h0: (2, n, 128)\n",
        "        \n",
        "        # Forward propagate RNN\n",
        "        out, _ = self.gru(x, (h0))  \n",
        "        \n",
        "        # out: tensor of shape (batch_size, seq_length, hidden_size)\n",
        "        # out: (n, 28, 128)\n",
        "        \n",
        "        # Decode the hidden state of the last time step\n",
        "        out = out[:, -1, :]\n",
        "        # out: (n, 128)\n",
        "#         F.log_softmax(self.linear(bow_vec), dim=1)\n",
        "        out = self.fc(out)\n",
        "        out= F.log_softmax((out),dim=1)\n",
        "        # out: (n, 2)\n",
        "        return out\n",
        "\n",
        "model = RNN(input_size, hidden_size, num_layers, num_classes).to(device)\n",
        "\n",
        "# Loss and optimizer setting\n",
        "criterion = nn.CrossEntropyLoss() ## Useful for later stage where we might have to use pain levels\n",
        "# criterion = nn.NLLLoss()\n",
        "# criterion = nn.BCELoss()\n",
        "# criterion = nn.BCEWithLogitsLoss()\n",
        "# m = nn.Sigmoid()\n",
        "optimizer = torch.optim.Adam(model.parameters(), lr=learning_rate)  \n",
        "## Hinge loss try"
      ],
      "execution_count": null,
      "outputs": []
    },
    {
      "cell_type": "code",
      "metadata": {
        "id": "Ekepy-67yZxu"
      },
      "source": [
        "# zz=next(iter(train_loader))\n",
        "# zz[0].shape"
      ],
      "execution_count": null,
      "outputs": []
    },
    {
      "cell_type": "code",
      "metadata": {
        "id": "fFYQkzNTiWaS",
        "colab": {
          "base_uri": "https://localhost:8080/"
        },
        "outputId": "dd3139e6-257b-4946-cffc-f54c8f757d15"
      },
      "source": [
        "# summary(model,input_size=(10,30,18))\n",
        "print(model)"
      ],
      "execution_count": null,
      "outputs": [
        {
          "output_type": "stream",
          "text": [
            "RNN(\n",
            "  (gru): GRU(1, 75, num_layers=4, batch_first=True)\n",
            "  (fc): Linear(in_features=75, out_features=4, bias=True)\n",
            ")\n"
          ],
          "name": "stdout"
        }
      ]
    },
    {
      "cell_type": "code",
      "metadata": {
        "id": "8MWID-I0iWcZ",
        "colab": {
          "base_uri": "https://localhost:8080/"
        },
        "outputId": "3310ebd4-e40f-4110-e5ec-ea5cf94d560d"
      },
      "source": [
        "n_total_steps = len(train_loader)\n",
        "i=0\n",
        "\n",
        "loss_count=[]\n",
        "Valid_count=[]\n",
        "Test_count=[]\n",
        "for epoch in range(num_epochs):\n",
        "    loss_value=0.0\n",
        "    for i,data in enumerate(train_loader, 0):\n",
        "#         print(data)\n",
        "        features, labels = data\n",
        "\n",
        "        # print('labels',labels)\n",
        "#         print('features',features)\n",
        "        \n",
        "        features = features.reshape(-1, sequence_length, input_size).to(device)\n",
        "#         print(features.shape)\n",
        "        labels = labels.to(device)\n",
        "        # Forward pass\n",
        "        outputs = model(features)\n",
        "#         print(len(labels),len(m(outputs)[0]))\n",
        "#         print(\"sh\",features.shape)\n",
        "#         print('out',outputs.shape)\n",
        "#         print('lab',labels.shape)\n",
        "        loss = criterion(outputs, labels.long())\n",
        "        \n",
        "        # Backward and optimize\n",
        "        optimizer.zero_grad()\n",
        "        loss.backward()\n",
        "        optimizer.step()\n",
        "        i+=1\n",
        "        loss_value+=loss.item()\n",
        "        if (i+1) % 100 == 0:\n",
        "            print (f'Epoch [{epoch+1}/{num_epochs}], Step [{i+1}/{n_total_steps}], Loss: {loss.item():.6f}')\n",
        "    loss_count.append(loss_value/n_total_steps)\n",
        "    ## Add validation code here (End of an epoch)\n",
        "\n",
        "    Val_dataset = PainDataset_Validation()\n",
        "    Val_loader = DataLoader(dataset=Val_dataset,batch_size=20,shuffle=False)\n",
        "    # Test the model on Validation data\n",
        "    # In test phase, we don't need to compute gradients (for memory efficiency)\n",
        "    n_total_steps_v = len(Val_loader)\n",
        "    with torch.no_grad():\n",
        "        n_correct_v = 0\n",
        "        n_samples_v = 0\n",
        "        valid_loss_value=0.0\n",
        "        for i,data_v in enumerate(Val_loader, 0):\n",
        "            # print(data)\n",
        "            features_v, labels_v = data_v\n",
        "            features_v = features_v.reshape(-1, sequence_length, input_size).to(device)\n",
        "            labels_v=labels_v.to(device)\n",
        "            \n",
        "            outputs_v = model(features_v)\n",
        "            # print(outputs)\n",
        "            _, predicted_v = torch.max(outputs_v.data, 1)\n",
        "            valid_loss = criterion(outputs_v, labels_v.long())\n",
        "            valid_loss_value+=valid_loss.item()\n",
        "            # print('predicted',predicted)\n",
        "            # print('labels',labels)\n",
        "            n_samples_v += labels_v.size(0)\n",
        "            n_correct_v += (predicted_v == labels_v.long()).sum().item()\n",
        "        # append avg val loss \n",
        "        Valid_count.append(valid_loss_value/n_total_steps_v)\n",
        "        acc_val = 100.0 * n_correct_v / n_samples_v\n",
        "        print(f'Accuracy of the network on Validation data for epoch {epoch+1} is : {acc_val} %')\n",
        "      \n",
        "    Test_dataset = PainDataset_Test()\n",
        "    Test_loader = DataLoader(dataset=Test_dataset,batch_size=20,shuffle=False)\n",
        "    # Test the model on Validation data\n",
        "    # In test phase, we don't need to compute gradients (for memory efficiency)\n",
        "    n_total_steps_t = len(Test_loader)\n",
        "    with torch.no_grad():\n",
        "        n_correct_t = 0\n",
        "        n_samples_t = 0\n",
        "        test_loss_value=0.0\n",
        "        for i,data_t in enumerate(Test_loader, 0):\n",
        "            # print(data)\n",
        "            features_t, labels_t = data_t\n",
        "            features_t = features_t.reshape(-1, sequence_length, input_size).to(device)\n",
        "            labels_t=labels_t.to(device)\n",
        "            \n",
        "            outputs_t = model(features_t)\n",
        "            # print(outputs)\n",
        "            _, predicted_t = torch.max(outputs_t.data, 1)\n",
        "            test_loss = criterion(outputs_t, labels_t.long())\n",
        "            test_loss_value+=test_loss.item()\n",
        "            # print('predicted',predicted)\n",
        "            # print('labels',labels)\n",
        "            n_samples_t += labels_t.size(0)\n",
        "            n_correct_t += (predicted_t == labels_t.long()).sum().item()\n",
        "        # append avg val loss \n",
        "        Test_count.append(test_loss_value/n_total_steps_t)\n",
        "        acc_test = 100.0 * n_correct_t / n_samples_t\n",
        "        print(f'Accuracy of the network on Test data for epoch {epoch+1} is : {acc_test} %')"
      ],
      "execution_count": null,
      "outputs": [
        {
          "output_type": "stream",
          "text": [
            "/usr/local/lib/python3.6/dist-packages/ipykernel_launcher.py:26: UserWarning: To copy construct from a tensor, it is recommended to use sourceTensor.clone().detach() or sourceTensor.clone().detach().requires_grad_(True), rather than torch.tensor(sourceTensor).\n",
            "/usr/local/lib/python3.6/dist-packages/ipykernel_launcher.py:21: UserWarning: To copy construct from a tensor, it is recommended to use sourceTensor.clone().detach() or sourceTensor.clone().detach().requires_grad_(True), rather than torch.tensor(sourceTensor).\n"
          ],
          "name": "stderr"
        },
        {
          "output_type": "stream",
          "text": [
            "Accuracy of the network on Validation data for epoch 1 is : 25.0 %\n"
          ],
          "name": "stdout"
        },
        {
          "output_type": "stream",
          "text": [
            "/usr/local/lib/python3.6/dist-packages/ipykernel_launcher.py:22: UserWarning: To copy construct from a tensor, it is recommended to use sourceTensor.clone().detach() or sourceTensor.clone().detach().requires_grad_(True), rather than torch.tensor(sourceTensor).\n"
          ],
          "name": "stderr"
        },
        {
          "output_type": "stream",
          "text": [
            "Accuracy of the network on Test data for epoch 1 is : 25.0 %\n",
            "Accuracy of the network on Validation data for epoch 2 is : 25.0 %\n",
            "Accuracy of the network on Test data for epoch 2 is : 25.0 %\n",
            "Accuracy of the network on Validation data for epoch 3 is : 27.604166666666668 %\n",
            "Accuracy of the network on Test data for epoch 3 is : 26.041666666666668 %\n",
            "Accuracy of the network on Validation data for epoch 4 is : 28.125 %\n",
            "Accuracy of the network on Test data for epoch 4 is : 34.375 %\n",
            "Accuracy of the network on Validation data for epoch 5 is : 28.645833333333332 %\n",
            "Accuracy of the network on Test data for epoch 5 is : 32.291666666666664 %\n",
            "Accuracy of the network on Validation data for epoch 6 is : 29.166666666666668 %\n",
            "Accuracy of the network on Test data for epoch 6 is : 28.645833333333332 %\n",
            "Accuracy of the network on Validation data for epoch 7 is : 29.6875 %\n",
            "Accuracy of the network on Test data for epoch 7 is : 29.166666666666668 %\n",
            "Accuracy of the network on Validation data for epoch 8 is : 31.25 %\n",
            "Accuracy of the network on Test data for epoch 8 is : 30.729166666666668 %\n",
            "Accuracy of the network on Validation data for epoch 9 is : 30.729166666666668 %\n",
            "Accuracy of the network on Test data for epoch 9 is : 30.729166666666668 %\n",
            "Accuracy of the network on Validation data for epoch 10 is : 30.729166666666668 %\n",
            "Accuracy of the network on Test data for epoch 10 is : 28.645833333333332 %\n",
            "Accuracy of the network on Validation data for epoch 11 is : 31.25 %\n",
            "Accuracy of the network on Test data for epoch 11 is : 29.6875 %\n",
            "Accuracy of the network on Validation data for epoch 12 is : 31.770833333333332 %\n",
            "Accuracy of the network on Test data for epoch 12 is : 31.770833333333332 %\n",
            "Accuracy of the network on Validation data for epoch 13 is : 32.291666666666664 %\n",
            "Accuracy of the network on Test data for epoch 13 is : 32.291666666666664 %\n",
            "Accuracy of the network on Validation data for epoch 14 is : 32.8125 %\n",
            "Accuracy of the network on Test data for epoch 14 is : 31.770833333333332 %\n",
            "Accuracy of the network on Validation data for epoch 15 is : 31.770833333333332 %\n",
            "Accuracy of the network on Test data for epoch 15 is : 33.333333333333336 %\n",
            "Accuracy of the network on Validation data for epoch 16 is : 30.729166666666668 %\n",
            "Accuracy of the network on Test data for epoch 16 is : 34.895833333333336 %\n",
            "Accuracy of the network on Validation data for epoch 17 is : 32.8125 %\n",
            "Accuracy of the network on Test data for epoch 17 is : 31.25 %\n",
            "Accuracy of the network on Validation data for epoch 18 is : 34.375 %\n",
            "Accuracy of the network on Test data for epoch 18 is : 33.854166666666664 %\n",
            "Accuracy of the network on Validation data for epoch 19 is : 32.8125 %\n",
            "Accuracy of the network on Test data for epoch 19 is : 34.375 %\n",
            "Accuracy of the network on Validation data for epoch 20 is : 32.291666666666664 %\n",
            "Accuracy of the network on Test data for epoch 20 is : 33.854166666666664 %\n",
            "Accuracy of the network on Validation data for epoch 21 is : 32.291666666666664 %\n",
            "Accuracy of the network on Test data for epoch 21 is : 34.895833333333336 %\n",
            "Accuracy of the network on Validation data for epoch 22 is : 32.8125 %\n",
            "Accuracy of the network on Test data for epoch 22 is : 34.895833333333336 %\n",
            "Accuracy of the network on Validation data for epoch 23 is : 32.291666666666664 %\n",
            "Accuracy of the network on Test data for epoch 23 is : 38.020833333333336 %\n",
            "Accuracy of the network on Validation data for epoch 24 is : 32.8125 %\n",
            "Accuracy of the network on Test data for epoch 24 is : 38.541666666666664 %\n",
            "Accuracy of the network on Validation data for epoch 25 is : 34.895833333333336 %\n",
            "Accuracy of the network on Test data for epoch 25 is : 38.020833333333336 %\n",
            "Accuracy of the network on Validation data for epoch 26 is : 33.854166666666664 %\n",
            "Accuracy of the network on Test data for epoch 26 is : 39.0625 %\n",
            "Accuracy of the network on Validation data for epoch 27 is : 35.9375 %\n",
            "Accuracy of the network on Test data for epoch 27 is : 39.0625 %\n",
            "Accuracy of the network on Validation data for epoch 28 is : 35.9375 %\n",
            "Accuracy of the network on Test data for epoch 28 is : 39.0625 %\n",
            "Accuracy of the network on Validation data for epoch 29 is : 35.416666666666664 %\n",
            "Accuracy of the network on Test data for epoch 29 is : 40.625 %\n",
            "Accuracy of the network on Validation data for epoch 30 is : 35.416666666666664 %\n",
            "Accuracy of the network on Test data for epoch 30 is : 40.625 %\n",
            "Accuracy of the network on Validation data for epoch 31 is : 35.416666666666664 %\n",
            "Accuracy of the network on Test data for epoch 31 is : 39.583333333333336 %\n",
            "Accuracy of the network on Validation data for epoch 32 is : 35.416666666666664 %\n",
            "Accuracy of the network on Test data for epoch 32 is : 39.0625 %\n",
            "Accuracy of the network on Validation data for epoch 33 is : 35.416666666666664 %\n",
            "Accuracy of the network on Test data for epoch 33 is : 39.583333333333336 %\n",
            "Accuracy of the network on Validation data for epoch 34 is : 35.416666666666664 %\n",
            "Accuracy of the network on Test data for epoch 34 is : 39.583333333333336 %\n",
            "Accuracy of the network on Validation data for epoch 35 is : 35.416666666666664 %\n",
            "Accuracy of the network on Test data for epoch 35 is : 38.541666666666664 %\n",
            "Accuracy of the network on Validation data for epoch 36 is : 34.895833333333336 %\n",
            "Accuracy of the network on Test data for epoch 36 is : 39.0625 %\n",
            "Accuracy of the network on Validation data for epoch 37 is : 34.895833333333336 %\n",
            "Accuracy of the network on Test data for epoch 37 is : 38.541666666666664 %\n",
            "Accuracy of the network on Validation data for epoch 38 is : 34.375 %\n",
            "Accuracy of the network on Test data for epoch 38 is : 39.0625 %\n",
            "Accuracy of the network on Validation data for epoch 39 is : 34.375 %\n",
            "Accuracy of the network on Test data for epoch 39 is : 38.541666666666664 %\n",
            "Accuracy of the network on Validation data for epoch 40 is : 34.375 %\n",
            "Accuracy of the network on Test data for epoch 40 is : 40.625 %\n",
            "Accuracy of the network on Validation data for epoch 41 is : 35.416666666666664 %\n",
            "Accuracy of the network on Test data for epoch 41 is : 38.020833333333336 %\n",
            "Accuracy of the network on Validation data for epoch 42 is : 32.8125 %\n",
            "Accuracy of the network on Test data for epoch 42 is : 40.625 %\n",
            "Accuracy of the network on Validation data for epoch 43 is : 33.854166666666664 %\n",
            "Accuracy of the network on Test data for epoch 43 is : 40.625 %\n",
            "Accuracy of the network on Validation data for epoch 44 is : 32.291666666666664 %\n",
            "Accuracy of the network on Test data for epoch 44 is : 40.625 %\n",
            "Accuracy of the network on Validation data for epoch 45 is : 33.333333333333336 %\n",
            "Accuracy of the network on Test data for epoch 45 is : 40.625 %\n",
            "Accuracy of the network on Validation data for epoch 46 is : 33.333333333333336 %\n",
            "Accuracy of the network on Test data for epoch 46 is : 39.583333333333336 %\n",
            "Accuracy of the network on Validation data for epoch 47 is : 33.854166666666664 %\n",
            "Accuracy of the network on Test data for epoch 47 is : 40.104166666666664 %\n",
            "Accuracy of the network on Validation data for epoch 48 is : 33.333333333333336 %\n",
            "Accuracy of the network on Test data for epoch 48 is : 39.583333333333336 %\n",
            "Accuracy of the network on Validation data for epoch 49 is : 33.854166666666664 %\n",
            "Accuracy of the network on Test data for epoch 49 is : 40.104166666666664 %\n",
            "Accuracy of the network on Validation data for epoch 50 is : 34.375 %\n",
            "Accuracy of the network on Test data for epoch 50 is : 39.0625 %\n",
            "Accuracy of the network on Validation data for epoch 51 is : 34.375 %\n",
            "Accuracy of the network on Test data for epoch 51 is : 41.666666666666664 %\n",
            "Accuracy of the network on Validation data for epoch 52 is : 32.291666666666664 %\n",
            "Accuracy of the network on Test data for epoch 52 is : 40.625 %\n",
            "Accuracy of the network on Validation data for epoch 53 is : 32.291666666666664 %\n",
            "Accuracy of the network on Test data for epoch 53 is : 41.145833333333336 %\n",
            "Accuracy of the network on Validation data for epoch 54 is : 33.333333333333336 %\n",
            "Accuracy of the network on Test data for epoch 54 is : 40.625 %\n",
            "Accuracy of the network on Validation data for epoch 55 is : 32.291666666666664 %\n",
            "Accuracy of the network on Test data for epoch 55 is : 42.1875 %\n",
            "Accuracy of the network on Validation data for epoch 56 is : 32.291666666666664 %\n",
            "Accuracy of the network on Test data for epoch 56 is : 41.145833333333336 %\n",
            "Accuracy of the network on Validation data for epoch 57 is : 33.333333333333336 %\n",
            "Accuracy of the network on Test data for epoch 57 is : 41.145833333333336 %\n",
            "Accuracy of the network on Validation data for epoch 58 is : 33.333333333333336 %\n",
            "Accuracy of the network on Test data for epoch 58 is : 40.625 %\n",
            "Accuracy of the network on Validation data for epoch 59 is : 34.375 %\n",
            "Accuracy of the network on Test data for epoch 59 is : 39.583333333333336 %\n",
            "Accuracy of the network on Validation data for epoch 60 is : 31.770833333333332 %\n",
            "Accuracy of the network on Test data for epoch 60 is : 39.0625 %\n",
            "Accuracy of the network on Validation data for epoch 61 is : 31.25 %\n",
            "Accuracy of the network on Test data for epoch 61 is : 42.1875 %\n",
            "Accuracy of the network on Validation data for epoch 62 is : 31.25 %\n",
            "Accuracy of the network on Test data for epoch 62 is : 41.666666666666664 %\n",
            "Accuracy of the network on Validation data for epoch 63 is : 31.770833333333332 %\n",
            "Accuracy of the network on Test data for epoch 63 is : 42.708333333333336 %\n",
            "Accuracy of the network on Validation data for epoch 64 is : 33.333333333333336 %\n",
            "Accuracy of the network on Test data for epoch 64 is : 42.1875 %\n",
            "Accuracy of the network on Validation data for epoch 65 is : 32.8125 %\n",
            "Accuracy of the network on Test data for epoch 65 is : 41.666666666666664 %\n",
            "Accuracy of the network on Validation data for epoch 66 is : 33.333333333333336 %\n",
            "Accuracy of the network on Test data for epoch 66 is : 41.666666666666664 %\n",
            "Accuracy of the network on Validation data for epoch 67 is : 31.770833333333332 %\n",
            "Accuracy of the network on Test data for epoch 67 is : 42.1875 %\n",
            "Accuracy of the network on Validation data for epoch 68 is : 33.333333333333336 %\n",
            "Accuracy of the network on Test data for epoch 68 is : 41.145833333333336 %\n",
            "Accuracy of the network on Validation data for epoch 69 is : 32.8125 %\n",
            "Accuracy of the network on Test data for epoch 69 is : 41.145833333333336 %\n",
            "Accuracy of the network on Validation data for epoch 70 is : 33.854166666666664 %\n",
            "Accuracy of the network on Test data for epoch 70 is : 41.145833333333336 %\n",
            "Accuracy of the network on Validation data for epoch 71 is : 32.8125 %\n",
            "Accuracy of the network on Test data for epoch 71 is : 41.666666666666664 %\n",
            "Accuracy of the network on Validation data for epoch 72 is : 33.854166666666664 %\n",
            "Accuracy of the network on Test data for epoch 72 is : 40.625 %\n",
            "Accuracy of the network on Validation data for epoch 73 is : 33.333333333333336 %\n",
            "Accuracy of the network on Test data for epoch 73 is : 40.625 %\n",
            "Accuracy of the network on Validation data for epoch 74 is : 32.8125 %\n",
            "Accuracy of the network on Test data for epoch 74 is : 42.1875 %\n",
            "Accuracy of the network on Validation data for epoch 75 is : 33.854166666666664 %\n",
            "Accuracy of the network on Test data for epoch 75 is : 40.625 %\n",
            "Accuracy of the network on Validation data for epoch 76 is : 33.333333333333336 %\n",
            "Accuracy of the network on Test data for epoch 76 is : 41.145833333333336 %\n",
            "Accuracy of the network on Validation data for epoch 77 is : 33.854166666666664 %\n",
            "Accuracy of the network on Test data for epoch 77 is : 39.0625 %\n",
            "Accuracy of the network on Validation data for epoch 78 is : 34.375 %\n",
            "Accuracy of the network on Test data for epoch 78 is : 40.104166666666664 %\n",
            "Accuracy of the network on Validation data for epoch 79 is : 33.854166666666664 %\n",
            "Accuracy of the network on Test data for epoch 79 is : 40.104166666666664 %\n",
            "Accuracy of the network on Validation data for epoch 80 is : 33.854166666666664 %\n",
            "Accuracy of the network on Test data for epoch 80 is : 39.583333333333336 %\n",
            "Accuracy of the network on Validation data for epoch 81 is : 32.291666666666664 %\n",
            "Accuracy of the network on Test data for epoch 81 is : 41.666666666666664 %\n",
            "Accuracy of the network on Validation data for epoch 82 is : 32.291666666666664 %\n",
            "Accuracy of the network on Test data for epoch 82 is : 42.1875 %\n",
            "Accuracy of the network on Validation data for epoch 83 is : 32.8125 %\n",
            "Accuracy of the network on Test data for epoch 83 is : 43.229166666666664 %\n",
            "Accuracy of the network on Validation data for epoch 84 is : 32.291666666666664 %\n",
            "Accuracy of the network on Test data for epoch 84 is : 39.0625 %\n",
            "Accuracy of the network on Validation data for epoch 85 is : 33.333333333333336 %\n",
            "Accuracy of the network on Test data for epoch 85 is : 42.708333333333336 %\n",
            "Accuracy of the network on Validation data for epoch 86 is : 31.770833333333332 %\n",
            "Accuracy of the network on Test data for epoch 86 is : 39.0625 %\n",
            "Accuracy of the network on Validation data for epoch 87 is : 32.8125 %\n",
            "Accuracy of the network on Test data for epoch 87 is : 42.708333333333336 %\n",
            "Accuracy of the network on Validation data for epoch 88 is : 32.8125 %\n",
            "Accuracy of the network on Test data for epoch 88 is : 41.666666666666664 %\n",
            "Accuracy of the network on Validation data for epoch 89 is : 33.333333333333336 %\n",
            "Accuracy of the network on Test data for epoch 89 is : 41.666666666666664 %\n",
            "Accuracy of the network on Validation data for epoch 90 is : 32.8125 %\n",
            "Accuracy of the network on Test data for epoch 90 is : 40.625 %\n",
            "Accuracy of the network on Validation data for epoch 91 is : 32.291666666666664 %\n",
            "Accuracy of the network on Test data for epoch 91 is : 38.020833333333336 %\n",
            "Accuracy of the network on Validation data for epoch 92 is : 32.291666666666664 %\n",
            "Accuracy of the network on Test data for epoch 92 is : 41.666666666666664 %\n",
            "Accuracy of the network on Validation data for epoch 93 is : 32.291666666666664 %\n",
            "Accuracy of the network on Test data for epoch 93 is : 41.145833333333336 %\n",
            "Accuracy of the network on Validation data for epoch 94 is : 33.854166666666664 %\n",
            "Accuracy of the network on Test data for epoch 94 is : 40.625 %\n",
            "Accuracy of the network on Validation data for epoch 95 is : 33.854166666666664 %\n",
            "Accuracy of the network on Test data for epoch 95 is : 41.145833333333336 %\n",
            "Accuracy of the network on Validation data for epoch 96 is : 33.333333333333336 %\n",
            "Accuracy of the network on Test data for epoch 96 is : 41.145833333333336 %\n",
            "Accuracy of the network on Validation data for epoch 97 is : 33.854166666666664 %\n",
            "Accuracy of the network on Test data for epoch 97 is : 41.145833333333336 %\n",
            "Accuracy of the network on Validation data for epoch 98 is : 33.333333333333336 %\n",
            "Accuracy of the network on Test data for epoch 98 is : 41.145833333333336 %\n",
            "Accuracy of the network on Validation data for epoch 99 is : 33.333333333333336 %\n",
            "Accuracy of the network on Test data for epoch 99 is : 41.666666666666664 %\n",
            "Accuracy of the network on Validation data for epoch 100 is : 32.291666666666664 %\n",
            "Accuracy of the network on Test data for epoch 100 is : 41.145833333333336 %\n",
            "Accuracy of the network on Validation data for epoch 101 is : 32.291666666666664 %\n",
            "Accuracy of the network on Test data for epoch 101 is : 41.666666666666664 %\n",
            "Accuracy of the network on Validation data for epoch 102 is : 32.8125 %\n",
            "Accuracy of the network on Test data for epoch 102 is : 41.666666666666664 %\n",
            "Accuracy of the network on Validation data for epoch 103 is : 32.8125 %\n",
            "Accuracy of the network on Test data for epoch 103 is : 41.145833333333336 %\n",
            "Accuracy of the network on Validation data for epoch 104 is : 32.291666666666664 %\n",
            "Accuracy of the network on Test data for epoch 104 is : 41.666666666666664 %\n",
            "Accuracy of the network on Validation data for epoch 105 is : 32.8125 %\n",
            "Accuracy of the network on Test data for epoch 105 is : 42.1875 %\n",
            "Accuracy of the network on Validation data for epoch 106 is : 31.770833333333332 %\n",
            "Accuracy of the network on Test data for epoch 106 is : 42.1875 %\n",
            "Accuracy of the network on Validation data for epoch 107 is : 33.333333333333336 %\n",
            "Accuracy of the network on Test data for epoch 107 is : 39.583333333333336 %\n",
            "Accuracy of the network on Validation data for epoch 108 is : 32.291666666666664 %\n",
            "Accuracy of the network on Test data for epoch 108 is : 43.229166666666664 %\n",
            "Accuracy of the network on Validation data for epoch 109 is : 31.770833333333332 %\n",
            "Accuracy of the network on Test data for epoch 109 is : 39.0625 %\n",
            "Accuracy of the network on Validation data for epoch 110 is : 33.333333333333336 %\n",
            "Accuracy of the network on Test data for epoch 110 is : 33.333333333333336 %\n",
            "Accuracy of the network on Validation data for epoch 111 is : 32.8125 %\n",
            "Accuracy of the network on Test data for epoch 111 is : 38.020833333333336 %\n",
            "Accuracy of the network on Validation data for epoch 112 is : 32.8125 %\n",
            "Accuracy of the network on Test data for epoch 112 is : 41.666666666666664 %\n",
            "Accuracy of the network on Validation data for epoch 113 is : 32.291666666666664 %\n",
            "Accuracy of the network on Test data for epoch 113 is : 43.229166666666664 %\n",
            "Accuracy of the network on Validation data for epoch 114 is : 35.416666666666664 %\n",
            "Accuracy of the network on Test data for epoch 114 is : 39.0625 %\n",
            "Accuracy of the network on Validation data for epoch 115 is : 34.895833333333336 %\n",
            "Accuracy of the network on Test data for epoch 115 is : 42.1875 %\n",
            "Accuracy of the network on Validation data for epoch 116 is : 33.333333333333336 %\n",
            "Accuracy of the network on Test data for epoch 116 is : 43.229166666666664 %\n",
            "Accuracy of the network on Validation data for epoch 117 is : 32.8125 %\n",
            "Accuracy of the network on Test data for epoch 117 is : 40.625 %\n",
            "Accuracy of the network on Validation data for epoch 118 is : 35.416666666666664 %\n",
            "Accuracy of the network on Test data for epoch 118 is : 38.020833333333336 %\n",
            "Accuracy of the network on Validation data for epoch 119 is : 32.8125 %\n",
            "Accuracy of the network on Test data for epoch 119 is : 41.666666666666664 %\n",
            "Accuracy of the network on Validation data for epoch 120 is : 33.333333333333336 %\n",
            "Accuracy of the network on Test data for epoch 120 is : 43.229166666666664 %\n",
            "Accuracy of the network on Validation data for epoch 121 is : 33.333333333333336 %\n",
            "Accuracy of the network on Test data for epoch 121 is : 42.708333333333336 %\n",
            "Accuracy of the network on Validation data for epoch 122 is : 33.854166666666664 %\n",
            "Accuracy of the network on Test data for epoch 122 is : 43.229166666666664 %\n",
            "Accuracy of the network on Validation data for epoch 123 is : 34.375 %\n",
            "Accuracy of the network on Test data for epoch 123 is : 44.270833333333336 %\n",
            "Accuracy of the network on Validation data for epoch 124 is : 33.854166666666664 %\n",
            "Accuracy of the network on Test data for epoch 124 is : 35.416666666666664 %\n",
            "Accuracy of the network on Validation data for epoch 125 is : 32.291666666666664 %\n",
            "Accuracy of the network on Test data for epoch 125 is : 36.458333333333336 %\n",
            "Accuracy of the network on Validation data for epoch 126 is : 34.375 %\n",
            "Accuracy of the network on Test data for epoch 126 is : 38.020833333333336 %\n",
            "Accuracy of the network on Validation data for epoch 127 is : 33.854166666666664 %\n",
            "Accuracy of the network on Test data for epoch 127 is : 42.1875 %\n",
            "Accuracy of the network on Validation data for epoch 128 is : 34.375 %\n",
            "Accuracy of the network on Test data for epoch 128 is : 41.666666666666664 %\n",
            "Accuracy of the network on Validation data for epoch 129 is : 34.895833333333336 %\n",
            "Accuracy of the network on Test data for epoch 129 is : 42.1875 %\n",
            "Accuracy of the network on Validation data for epoch 130 is : 32.8125 %\n",
            "Accuracy of the network on Test data for epoch 130 is : 42.708333333333336 %\n",
            "Accuracy of the network on Validation data for epoch 131 is : 33.333333333333336 %\n",
            "Accuracy of the network on Test data for epoch 131 is : 43.229166666666664 %\n",
            "Accuracy of the network on Validation data for epoch 132 is : 34.895833333333336 %\n",
            "Accuracy of the network on Test data for epoch 132 is : 41.666666666666664 %\n",
            "Accuracy of the network on Validation data for epoch 133 is : 35.9375 %\n",
            "Accuracy of the network on Test data for epoch 133 is : 39.583333333333336 %\n",
            "Accuracy of the network on Validation data for epoch 134 is : 35.416666666666664 %\n",
            "Accuracy of the network on Test data for epoch 134 is : 42.708333333333336 %\n",
            "Accuracy of the network on Validation data for epoch 135 is : 38.020833333333336 %\n",
            "Accuracy of the network on Test data for epoch 135 is : 42.708333333333336 %\n",
            "Accuracy of the network on Validation data for epoch 136 is : 31.770833333333332 %\n",
            "Accuracy of the network on Test data for epoch 136 is : 32.291666666666664 %\n",
            "Accuracy of the network on Validation data for epoch 137 is : 30.208333333333332 %\n",
            "Accuracy of the network on Test data for epoch 137 is : 29.6875 %\n",
            "Accuracy of the network on Validation data for epoch 138 is : 33.333333333333336 %\n",
            "Accuracy of the network on Test data for epoch 138 is : 31.770833333333332 %\n",
            "Accuracy of the network on Validation data for epoch 139 is : 34.895833333333336 %\n",
            "Accuracy of the network on Test data for epoch 139 is : 33.333333333333336 %\n",
            "Accuracy of the network on Validation data for epoch 140 is : 34.375 %\n",
            "Accuracy of the network on Test data for epoch 140 is : 35.416666666666664 %\n",
            "Accuracy of the network on Validation data for epoch 141 is : 33.854166666666664 %\n",
            "Accuracy of the network on Test data for epoch 141 is : 36.979166666666664 %\n",
            "Accuracy of the network on Validation data for epoch 142 is : 34.895833333333336 %\n",
            "Accuracy of the network on Test data for epoch 142 is : 38.020833333333336 %\n",
            "Accuracy of the network on Validation data for epoch 143 is : 34.375 %\n",
            "Accuracy of the network on Test data for epoch 143 is : 38.541666666666664 %\n",
            "Accuracy of the network on Validation data for epoch 144 is : 33.854166666666664 %\n",
            "Accuracy of the network on Test data for epoch 144 is : 39.583333333333336 %\n",
            "Accuracy of the network on Validation data for epoch 145 is : 34.895833333333336 %\n",
            "Accuracy of the network on Test data for epoch 145 is : 41.145833333333336 %\n",
            "Accuracy of the network on Validation data for epoch 146 is : 35.9375 %\n",
            "Accuracy of the network on Test data for epoch 146 is : 41.145833333333336 %\n",
            "Accuracy of the network on Validation data for epoch 147 is : 32.8125 %\n",
            "Accuracy of the network on Test data for epoch 147 is : 41.145833333333336 %\n",
            "Accuracy of the network on Validation data for epoch 148 is : 32.291666666666664 %\n",
            "Accuracy of the network on Test data for epoch 148 is : 43.229166666666664 %\n",
            "Accuracy of the network on Validation data for epoch 149 is : 34.375 %\n",
            "Accuracy of the network on Test data for epoch 149 is : 43.229166666666664 %\n",
            "Accuracy of the network on Validation data for epoch 150 is : 34.375 %\n",
            "Accuracy of the network on Test data for epoch 150 is : 43.229166666666664 %\n",
            "Accuracy of the network on Validation data for epoch 151 is : 34.375 %\n",
            "Accuracy of the network on Test data for epoch 151 is : 43.229166666666664 %\n",
            "Accuracy of the network on Validation data for epoch 152 is : 36.979166666666664 %\n",
            "Accuracy of the network on Test data for epoch 152 is : 41.666666666666664 %\n",
            "Accuracy of the network on Validation data for epoch 153 is : 35.416666666666664 %\n",
            "Accuracy of the network on Test data for epoch 153 is : 40.104166666666664 %\n",
            "Accuracy of the network on Validation data for epoch 154 is : 36.979166666666664 %\n",
            "Accuracy of the network on Test data for epoch 154 is : 42.1875 %\n",
            "Accuracy of the network on Validation data for epoch 155 is : 35.416666666666664 %\n",
            "Accuracy of the network on Test data for epoch 155 is : 40.104166666666664 %\n",
            "Accuracy of the network on Validation data for epoch 156 is : 38.541666666666664 %\n",
            "Accuracy of the network on Test data for epoch 156 is : 37.5 %\n",
            "Accuracy of the network on Validation data for epoch 157 is : 33.854166666666664 %\n",
            "Accuracy of the network on Test data for epoch 157 is : 34.895833333333336 %\n",
            "Accuracy of the network on Validation data for epoch 158 is : 34.895833333333336 %\n",
            "Accuracy of the network on Test data for epoch 158 is : 36.458333333333336 %\n",
            "Accuracy of the network on Validation data for epoch 159 is : 35.416666666666664 %\n",
            "Accuracy of the network on Test data for epoch 159 is : 35.9375 %\n",
            "Accuracy of the network on Validation data for epoch 160 is : 34.895833333333336 %\n",
            "Accuracy of the network on Test data for epoch 160 is : 38.020833333333336 %\n",
            "Accuracy of the network on Validation data for epoch 161 is : 34.895833333333336 %\n",
            "Accuracy of the network on Test data for epoch 161 is : 30.208333333333332 %\n",
            "Accuracy of the network on Validation data for epoch 162 is : 32.291666666666664 %\n",
            "Accuracy of the network on Test data for epoch 162 is : 31.25 %\n",
            "Accuracy of the network on Validation data for epoch 163 is : 33.333333333333336 %\n",
            "Accuracy of the network on Test data for epoch 163 is : 34.375 %\n",
            "Accuracy of the network on Validation data for epoch 164 is : 34.375 %\n",
            "Accuracy of the network on Test data for epoch 164 is : 32.291666666666664 %\n",
            "Accuracy of the network on Validation data for epoch 165 is : 35.416666666666664 %\n",
            "Accuracy of the network on Test data for epoch 165 is : 33.333333333333336 %\n",
            "Accuracy of the network on Validation data for epoch 166 is : 36.979166666666664 %\n",
            "Accuracy of the network on Test data for epoch 166 is : 36.979166666666664 %\n",
            "Accuracy of the network on Validation data for epoch 167 is : 36.458333333333336 %\n",
            "Accuracy of the network on Test data for epoch 167 is : 38.020833333333336 %\n",
            "Accuracy of the network on Validation data for epoch 168 is : 34.895833333333336 %\n",
            "Accuracy of the network on Test data for epoch 168 is : 36.458333333333336 %\n",
            "Accuracy of the network on Validation data for epoch 169 is : 36.979166666666664 %\n",
            "Accuracy of the network on Test data for epoch 169 is : 37.5 %\n",
            "Accuracy of the network on Validation data for epoch 170 is : 36.458333333333336 %\n",
            "Accuracy of the network on Test data for epoch 170 is : 37.5 %\n",
            "Accuracy of the network on Validation data for epoch 171 is : 36.979166666666664 %\n",
            "Accuracy of the network on Test data for epoch 171 is : 38.541666666666664 %\n",
            "Accuracy of the network on Validation data for epoch 172 is : 36.979166666666664 %\n",
            "Accuracy of the network on Test data for epoch 172 is : 39.583333333333336 %\n",
            "Accuracy of the network on Validation data for epoch 173 is : 36.979166666666664 %\n",
            "Accuracy of the network on Test data for epoch 173 is : 39.0625 %\n",
            "Accuracy of the network on Validation data for epoch 174 is : 33.854166666666664 %\n",
            "Accuracy of the network on Test data for epoch 174 is : 39.583333333333336 %\n",
            "Accuracy of the network on Validation data for epoch 175 is : 35.416666666666664 %\n",
            "Accuracy of the network on Test data for epoch 175 is : 39.0625 %\n",
            "Accuracy of the network on Validation data for epoch 176 is : 36.979166666666664 %\n",
            "Accuracy of the network on Test data for epoch 176 is : 38.020833333333336 %\n",
            "Accuracy of the network on Validation data for epoch 177 is : 36.458333333333336 %\n",
            "Accuracy of the network on Test data for epoch 177 is : 38.541666666666664 %\n",
            "Accuracy of the network on Validation data for epoch 178 is : 36.979166666666664 %\n",
            "Accuracy of the network on Test data for epoch 178 is : 38.020833333333336 %\n",
            "Accuracy of the network on Validation data for epoch 179 is : 36.979166666666664 %\n",
            "Accuracy of the network on Test data for epoch 179 is : 38.541666666666664 %\n",
            "Accuracy of the network on Validation data for epoch 180 is : 37.5 %\n",
            "Accuracy of the network on Test data for epoch 180 is : 37.5 %\n",
            "Accuracy of the network on Validation data for epoch 181 is : 36.979166666666664 %\n",
            "Accuracy of the network on Test data for epoch 181 is : 38.541666666666664 %\n",
            "Accuracy of the network on Validation data for epoch 182 is : 37.5 %\n",
            "Accuracy of the network on Test data for epoch 182 is : 36.979166666666664 %\n",
            "Accuracy of the network on Validation data for epoch 183 is : 36.979166666666664 %\n",
            "Accuracy of the network on Test data for epoch 183 is : 39.0625 %\n",
            "Accuracy of the network on Validation data for epoch 184 is : 38.020833333333336 %\n",
            "Accuracy of the network on Test data for epoch 184 is : 36.979166666666664 %\n",
            "Accuracy of the network on Validation data for epoch 185 is : 36.979166666666664 %\n",
            "Accuracy of the network on Test data for epoch 185 is : 38.541666666666664 %\n",
            "Accuracy of the network on Validation data for epoch 186 is : 38.020833333333336 %\n",
            "Accuracy of the network on Test data for epoch 186 is : 36.979166666666664 %\n",
            "Accuracy of the network on Validation data for epoch 187 is : 37.5 %\n",
            "Accuracy of the network on Test data for epoch 187 is : 36.979166666666664 %\n",
            "Accuracy of the network on Validation data for epoch 188 is : 38.020833333333336 %\n",
            "Accuracy of the network on Test data for epoch 188 is : 37.5 %\n",
            "Accuracy of the network on Validation data for epoch 189 is : 37.5 %\n",
            "Accuracy of the network on Test data for epoch 189 is : 37.5 %\n",
            "Accuracy of the network on Validation data for epoch 190 is : 37.5 %\n",
            "Accuracy of the network on Test data for epoch 190 is : 37.5 %\n",
            "Accuracy of the network on Validation data for epoch 191 is : 37.5 %\n",
            "Accuracy of the network on Test data for epoch 191 is : 37.5 %\n",
            "Accuracy of the network on Validation data for epoch 192 is : 38.020833333333336 %\n",
            "Accuracy of the network on Test data for epoch 192 is : 37.5 %\n",
            "Accuracy of the network on Validation data for epoch 193 is : 38.020833333333336 %\n",
            "Accuracy of the network on Test data for epoch 193 is : 37.5 %\n",
            "Accuracy of the network on Validation data for epoch 194 is : 38.020833333333336 %\n",
            "Accuracy of the network on Test data for epoch 194 is : 37.5 %\n",
            "Accuracy of the network on Validation data for epoch 195 is : 38.020833333333336 %\n",
            "Accuracy of the network on Test data for epoch 195 is : 37.5 %\n",
            "Accuracy of the network on Validation data for epoch 196 is : 38.020833333333336 %\n",
            "Accuracy of the network on Test data for epoch 196 is : 37.5 %\n",
            "Accuracy of the network on Validation data for epoch 197 is : 38.541666666666664 %\n",
            "Accuracy of the network on Test data for epoch 197 is : 38.020833333333336 %\n",
            "Accuracy of the network on Validation data for epoch 198 is : 38.541666666666664 %\n",
            "Accuracy of the network on Test data for epoch 198 is : 39.0625 %\n",
            "Accuracy of the network on Validation data for epoch 199 is : 39.0625 %\n",
            "Accuracy of the network on Test data for epoch 199 is : 39.0625 %\n",
            "Accuracy of the network on Validation data for epoch 200 is : 39.0625 %\n",
            "Accuracy of the network on Test data for epoch 200 is : 39.0625 %\n",
            "Accuracy of the network on Validation data for epoch 201 is : 39.0625 %\n",
            "Accuracy of the network on Test data for epoch 201 is : 39.0625 %\n",
            "Accuracy of the network on Validation data for epoch 202 is : 39.0625 %\n",
            "Accuracy of the network on Test data for epoch 202 is : 39.0625 %\n",
            "Accuracy of the network on Validation data for epoch 203 is : 39.0625 %\n",
            "Accuracy of the network on Test data for epoch 203 is : 39.583333333333336 %\n",
            "Accuracy of the network on Validation data for epoch 204 is : 38.541666666666664 %\n",
            "Accuracy of the network on Test data for epoch 204 is : 39.583333333333336 %\n",
            "Accuracy of the network on Validation data for epoch 205 is : 38.541666666666664 %\n",
            "Accuracy of the network on Test data for epoch 205 is : 40.104166666666664 %\n",
            "Accuracy of the network on Validation data for epoch 206 is : 38.541666666666664 %\n",
            "Accuracy of the network on Test data for epoch 206 is : 40.104166666666664 %\n",
            "Accuracy of the network on Validation data for epoch 207 is : 38.541666666666664 %\n",
            "Accuracy of the network on Test data for epoch 207 is : 40.104166666666664 %\n",
            "Accuracy of the network on Validation data for epoch 208 is : 38.541666666666664 %\n",
            "Accuracy of the network on Test data for epoch 208 is : 40.625 %\n",
            "Accuracy of the network on Validation data for epoch 209 is : 38.541666666666664 %\n",
            "Accuracy of the network on Test data for epoch 209 is : 41.145833333333336 %\n",
            "Accuracy of the network on Validation data for epoch 210 is : 38.020833333333336 %\n",
            "Accuracy of the network on Test data for epoch 210 is : 41.145833333333336 %\n",
            "Accuracy of the network on Validation data for epoch 211 is : 37.5 %\n",
            "Accuracy of the network on Test data for epoch 211 is : 41.666666666666664 %\n",
            "Accuracy of the network on Validation data for epoch 212 is : 37.5 %\n",
            "Accuracy of the network on Test data for epoch 212 is : 41.666666666666664 %\n",
            "Accuracy of the network on Validation data for epoch 213 is : 37.5 %\n",
            "Accuracy of the network on Test data for epoch 213 is : 41.666666666666664 %\n",
            "Accuracy of the network on Validation data for epoch 214 is : 38.020833333333336 %\n",
            "Accuracy of the network on Test data for epoch 214 is : 41.666666666666664 %\n",
            "Accuracy of the network on Validation data for epoch 215 is : 38.020833333333336 %\n",
            "Accuracy of the network on Test data for epoch 215 is : 41.666666666666664 %\n",
            "Accuracy of the network on Validation data for epoch 216 is : 38.020833333333336 %\n",
            "Accuracy of the network on Test data for epoch 216 is : 42.708333333333336 %\n",
            "Accuracy of the network on Validation data for epoch 217 is : 37.5 %\n",
            "Accuracy of the network on Test data for epoch 217 is : 42.1875 %\n",
            "Accuracy of the network on Validation data for epoch 218 is : 38.020833333333336 %\n",
            "Accuracy of the network on Test data for epoch 218 is : 42.1875 %\n",
            "Accuracy of the network on Validation data for epoch 219 is : 38.541666666666664 %\n",
            "Accuracy of the network on Test data for epoch 219 is : 41.666666666666664 %\n",
            "Accuracy of the network on Validation data for epoch 220 is : 34.895833333333336 %\n",
            "Accuracy of the network on Test data for epoch 220 is : 43.75 %\n",
            "Accuracy of the network on Validation data for epoch 221 is : 36.979166666666664 %\n",
            "Accuracy of the network on Test data for epoch 221 is : 41.145833333333336 %\n",
            "Accuracy of the network on Validation data for epoch 222 is : 34.895833333333336 %\n",
            "Accuracy of the network on Test data for epoch 222 is : 33.854166666666664 %\n",
            "Accuracy of the network on Validation data for epoch 223 is : 36.979166666666664 %\n",
            "Accuracy of the network on Test data for epoch 223 is : 39.0625 %\n",
            "Accuracy of the network on Validation data for epoch 224 is : 36.458333333333336 %\n",
            "Accuracy of the network on Test data for epoch 224 is : 37.5 %\n",
            "Accuracy of the network on Validation data for epoch 225 is : 38.020833333333336 %\n",
            "Accuracy of the network on Test data for epoch 225 is : 39.583333333333336 %\n",
            "Accuracy of the network on Validation data for epoch 226 is : 38.020833333333336 %\n",
            "Accuracy of the network on Test data for epoch 226 is : 40.104166666666664 %\n",
            "Accuracy of the network on Validation data for epoch 227 is : 38.020833333333336 %\n",
            "Accuracy of the network on Test data for epoch 227 is : 39.583333333333336 %\n",
            "Accuracy of the network on Validation data for epoch 228 is : 38.020833333333336 %\n",
            "Accuracy of the network on Test data for epoch 228 is : 39.583333333333336 %\n",
            "Accuracy of the network on Validation data for epoch 229 is : 37.5 %\n",
            "Accuracy of the network on Test data for epoch 229 is : 38.020833333333336 %\n",
            "Accuracy of the network on Validation data for epoch 230 is : 35.416666666666664 %\n",
            "Accuracy of the network on Test data for epoch 230 is : 32.8125 %\n",
            "Accuracy of the network on Validation data for epoch 231 is : 37.5 %\n",
            "Accuracy of the network on Test data for epoch 231 is : 40.104166666666664 %\n",
            "Accuracy of the network on Validation data for epoch 232 is : 36.979166666666664 %\n",
            "Accuracy of the network on Test data for epoch 232 is : 38.020833333333336 %\n",
            "Accuracy of the network on Validation data for epoch 233 is : 30.208333333333332 %\n",
            "Accuracy of the network on Test data for epoch 233 is : 41.666666666666664 %\n",
            "Accuracy of the network on Validation data for epoch 234 is : 32.291666666666664 %\n",
            "Accuracy of the network on Test data for epoch 234 is : 39.0625 %\n",
            "Accuracy of the network on Validation data for epoch 235 is : 35.416666666666664 %\n",
            "Accuracy of the network on Test data for epoch 235 is : 40.625 %\n",
            "Accuracy of the network on Validation data for epoch 236 is : 34.895833333333336 %\n",
            "Accuracy of the network on Test data for epoch 236 is : 36.458333333333336 %\n",
            "Accuracy of the network on Validation data for epoch 237 is : 34.895833333333336 %\n",
            "Accuracy of the network on Test data for epoch 237 is : 38.020833333333336 %\n",
            "Accuracy of the network on Validation data for epoch 238 is : 34.895833333333336 %\n",
            "Accuracy of the network on Test data for epoch 238 is : 32.291666666666664 %\n",
            "Accuracy of the network on Validation data for epoch 239 is : 36.458333333333336 %\n",
            "Accuracy of the network on Test data for epoch 239 is : 39.583333333333336 %\n",
            "Accuracy of the network on Validation data for epoch 240 is : 36.979166666666664 %\n",
            "Accuracy of the network on Test data for epoch 240 is : 39.0625 %\n",
            "Accuracy of the network on Validation data for epoch 241 is : 36.979166666666664 %\n",
            "Accuracy of the network on Test data for epoch 241 is : 39.583333333333336 %\n",
            "Accuracy of the network on Validation data for epoch 242 is : 36.979166666666664 %\n",
            "Accuracy of the network on Test data for epoch 242 is : 41.666666666666664 %\n",
            "Accuracy of the network on Validation data for epoch 243 is : 36.458333333333336 %\n",
            "Accuracy of the network on Test data for epoch 243 is : 40.625 %\n",
            "Accuracy of the network on Validation data for epoch 244 is : 33.333333333333336 %\n",
            "Accuracy of the network on Test data for epoch 244 is : 40.104166666666664 %\n",
            "Accuracy of the network on Validation data for epoch 245 is : 35.9375 %\n",
            "Accuracy of the network on Test data for epoch 245 is : 38.541666666666664 %\n",
            "Accuracy of the network on Validation data for epoch 246 is : 38.020833333333336 %\n",
            "Accuracy of the network on Test data for epoch 246 is : 38.541666666666664 %\n",
            "Accuracy of the network on Validation data for epoch 247 is : 38.020833333333336 %\n",
            "Accuracy of the network on Test data for epoch 247 is : 37.5 %\n",
            "Accuracy of the network on Validation data for epoch 248 is : 35.9375 %\n",
            "Accuracy of the network on Test data for epoch 248 is : 41.145833333333336 %\n",
            "Accuracy of the network on Validation data for epoch 249 is : 36.458333333333336 %\n",
            "Accuracy of the network on Test data for epoch 249 is : 39.583333333333336 %\n",
            "Accuracy of the network on Validation data for epoch 250 is : 35.9375 %\n",
            "Accuracy of the network on Test data for epoch 250 is : 41.666666666666664 %\n",
            "Accuracy of the network on Validation data for epoch 251 is : 36.458333333333336 %\n",
            "Accuracy of the network on Test data for epoch 251 is : 40.104166666666664 %\n",
            "Accuracy of the network on Validation data for epoch 252 is : 36.979166666666664 %\n",
            "Accuracy of the network on Test data for epoch 252 is : 39.583333333333336 %\n",
            "Accuracy of the network on Validation data for epoch 253 is : 35.9375 %\n",
            "Accuracy of the network on Test data for epoch 253 is : 40.104166666666664 %\n",
            "Accuracy of the network on Validation data for epoch 254 is : 35.9375 %\n",
            "Accuracy of the network on Test data for epoch 254 is : 38.541666666666664 %\n",
            "Accuracy of the network on Validation data for epoch 255 is : 35.416666666666664 %\n",
            "Accuracy of the network on Test data for epoch 255 is : 40.104166666666664 %\n",
            "Accuracy of the network on Validation data for epoch 256 is : 35.9375 %\n",
            "Accuracy of the network on Test data for epoch 256 is : 40.104166666666664 %\n",
            "Accuracy of the network on Validation data for epoch 257 is : 33.333333333333336 %\n",
            "Accuracy of the network on Test data for epoch 257 is : 35.416666666666664 %\n",
            "Accuracy of the network on Validation data for epoch 258 is : 34.895833333333336 %\n",
            "Accuracy of the network on Test data for epoch 258 is : 41.145833333333336 %\n",
            "Accuracy of the network on Validation data for epoch 259 is : 34.895833333333336 %\n",
            "Accuracy of the network on Test data for epoch 259 is : 41.145833333333336 %\n",
            "Accuracy of the network on Validation data for epoch 260 is : 33.854166666666664 %\n",
            "Accuracy of the network on Test data for epoch 260 is : 39.583333333333336 %\n",
            "Accuracy of the network on Validation data for epoch 261 is : 33.854166666666664 %\n",
            "Accuracy of the network on Test data for epoch 261 is : 38.541666666666664 %\n",
            "Accuracy of the network on Validation data for epoch 262 is : 33.854166666666664 %\n",
            "Accuracy of the network on Test data for epoch 262 is : 38.020833333333336 %\n",
            "Accuracy of the network on Validation data for epoch 263 is : 33.333333333333336 %\n",
            "Accuracy of the network on Test data for epoch 263 is : 37.5 %\n",
            "Accuracy of the network on Validation data for epoch 264 is : 33.854166666666664 %\n",
            "Accuracy of the network on Test data for epoch 264 is : 38.541666666666664 %\n",
            "Accuracy of the network on Validation data for epoch 265 is : 34.375 %\n",
            "Accuracy of the network on Test data for epoch 265 is : 37.5 %\n",
            "Accuracy of the network on Validation data for epoch 266 is : 33.854166666666664 %\n",
            "Accuracy of the network on Test data for epoch 266 is : 39.583333333333336 %\n",
            "Accuracy of the network on Validation data for epoch 267 is : 33.854166666666664 %\n",
            "Accuracy of the network on Test data for epoch 267 is : 36.979166666666664 %\n",
            "Accuracy of the network on Validation data for epoch 268 is : 33.854166666666664 %\n",
            "Accuracy of the network on Test data for epoch 268 is : 37.5 %\n",
            "Accuracy of the network on Validation data for epoch 269 is : 32.291666666666664 %\n",
            "Accuracy of the network on Test data for epoch 269 is : 39.0625 %\n",
            "Accuracy of the network on Validation data for epoch 270 is : 33.333333333333336 %\n",
            "Accuracy of the network on Test data for epoch 270 is : 36.979166666666664 %\n",
            "Accuracy of the network on Validation data for epoch 271 is : 33.333333333333336 %\n",
            "Accuracy of the network on Test data for epoch 271 is : 38.020833333333336 %\n",
            "Accuracy of the network on Validation data for epoch 272 is : 33.333333333333336 %\n",
            "Accuracy of the network on Test data for epoch 272 is : 38.541666666666664 %\n",
            "Accuracy of the network on Validation data for epoch 273 is : 32.8125 %\n",
            "Accuracy of the network on Test data for epoch 273 is : 39.0625 %\n",
            "Accuracy of the network on Validation data for epoch 274 is : 32.8125 %\n",
            "Accuracy of the network on Test data for epoch 274 is : 34.895833333333336 %\n",
            "Accuracy of the network on Validation data for epoch 275 is : 30.208333333333332 %\n",
            "Accuracy of the network on Test data for epoch 275 is : 36.979166666666664 %\n",
            "Accuracy of the network on Validation data for epoch 276 is : 32.291666666666664 %\n",
            "Accuracy of the network on Test data for epoch 276 is : 36.458333333333336 %\n",
            "Accuracy of the network on Validation data for epoch 277 is : 31.25 %\n",
            "Accuracy of the network on Test data for epoch 277 is : 35.9375 %\n",
            "Accuracy of the network on Validation data for epoch 278 is : 34.375 %\n",
            "Accuracy of the network on Test data for epoch 278 is : 34.375 %\n",
            "Accuracy of the network on Validation data for epoch 279 is : 33.333333333333336 %\n",
            "Accuracy of the network on Test data for epoch 279 is : 37.5 %\n",
            "Accuracy of the network on Validation data for epoch 280 is : 32.8125 %\n",
            "Accuracy of the network on Test data for epoch 280 is : 37.5 %\n",
            "Accuracy of the network on Validation data for epoch 281 is : 30.729166666666668 %\n",
            "Accuracy of the network on Test data for epoch 281 is : 36.979166666666664 %\n",
            "Accuracy of the network on Validation data for epoch 282 is : 31.25 %\n",
            "Accuracy of the network on Test data for epoch 282 is : 36.979166666666664 %\n",
            "Accuracy of the network on Validation data for epoch 283 is : 31.25 %\n",
            "Accuracy of the network on Test data for epoch 283 is : 36.458333333333336 %\n",
            "Accuracy of the network on Validation data for epoch 284 is : 32.291666666666664 %\n",
            "Accuracy of the network on Test data for epoch 284 is : 35.9375 %\n",
            "Accuracy of the network on Validation data for epoch 285 is : 31.770833333333332 %\n",
            "Accuracy of the network on Test data for epoch 285 is : 38.020833333333336 %\n",
            "Accuracy of the network on Validation data for epoch 286 is : 30.208333333333332 %\n",
            "Accuracy of the network on Test data for epoch 286 is : 38.020833333333336 %\n",
            "Accuracy of the network on Validation data for epoch 287 is : 30.208333333333332 %\n",
            "Accuracy of the network on Test data for epoch 287 is : 36.458333333333336 %\n",
            "Accuracy of the network on Validation data for epoch 288 is : 31.25 %\n",
            "Accuracy of the network on Test data for epoch 288 is : 35.9375 %\n",
            "Accuracy of the network on Validation data for epoch 289 is : 30.729166666666668 %\n",
            "Accuracy of the network on Test data for epoch 289 is : 36.979166666666664 %\n",
            "Accuracy of the network on Validation data for epoch 290 is : 32.291666666666664 %\n",
            "Accuracy of the network on Test data for epoch 290 is : 36.458333333333336 %\n",
            "Accuracy of the network on Validation data for epoch 291 is : 33.333333333333336 %\n",
            "Accuracy of the network on Test data for epoch 291 is : 35.416666666666664 %\n",
            "Accuracy of the network on Validation data for epoch 292 is : 30.208333333333332 %\n",
            "Accuracy of the network on Test data for epoch 292 is : 38.020833333333336 %\n",
            "Accuracy of the network on Validation data for epoch 293 is : 32.291666666666664 %\n",
            "Accuracy of the network on Test data for epoch 293 is : 35.416666666666664 %\n",
            "Accuracy of the network on Validation data for epoch 294 is : 33.333333333333336 %\n",
            "Accuracy of the network on Test data for epoch 294 is : 35.416666666666664 %\n",
            "Accuracy of the network on Validation data for epoch 295 is : 31.25 %\n",
            "Accuracy of the network on Test data for epoch 295 is : 37.5 %\n",
            "Accuracy of the network on Validation data for epoch 296 is : 35.9375 %\n",
            "Accuracy of the network on Test data for epoch 296 is : 36.979166666666664 %\n",
            "Accuracy of the network on Validation data for epoch 297 is : 30.729166666666668 %\n",
            "Accuracy of the network on Test data for epoch 297 is : 33.333333333333336 %\n",
            "Accuracy of the network on Validation data for epoch 298 is : 34.375 %\n",
            "Accuracy of the network on Test data for epoch 298 is : 36.458333333333336 %\n",
            "Accuracy of the network on Validation data for epoch 299 is : 32.291666666666664 %\n",
            "Accuracy of the network on Test data for epoch 299 is : 38.020833333333336 %\n",
            "Accuracy of the network on Validation data for epoch 300 is : 33.333333333333336 %\n",
            "Accuracy of the network on Test data for epoch 300 is : 39.0625 %\n"
          ],
          "name": "stdout"
        }
      ]
    },
    {
      "cell_type": "code",
      "metadata": {
        "id": "zb3c9-UviWhd",
        "colab": {
          "base_uri": "https://localhost:8080/",
          "height": 282
        },
        "outputId": "c890426c-f903-4bbb-eb75-fba8ad1015c9"
      },
      "source": [
        "# ## Add valid plot and colour\n",
        "plt.plot(loss_count,\"b\")\n",
        "# plt.savefig(r'/content/drive/My Drive/GRU_Train_loss_'+str(num_epochs)+'_epochs1.png')"
      ],
      "execution_count": null,
      "outputs": [
        {
          "output_type": "execute_result",
          "data": {
            "text/plain": [
              "[<matplotlib.lines.Line2D at 0x7fec7143ccf8>]"
            ]
          },
          "metadata": {
            "tags": []
          },
          "execution_count": 15
        },
        {
          "output_type": "display_data",
          "data": {
            "image/png": "[encoded data removed]",
            "text/plain": [
              "<Figure size 432x288 with 1 Axes>"
            ]
          },
          "metadata": {
            "tags": [],
            "needs_background": "light"
          }
        }
      ]
    },
    {
      "cell_type": "code",
      "metadata": {
        "id": "pcdYW1sRj1k2",
        "colab": {
          "base_uri": "https://localhost:8080/",
          "height": 282
        },
        "outputId": "ba38f971-973c-46a0-d6b1-d9298a68e9cc"
      },
      "source": [
        "# ## Add valid plot and colour\n",
        "plt.plot(Test_count,\"g\")\n",
        "# plt.savefig(r'/content/drive/My Drive/GRU_Test_loss_'+str(num_epochs)+'_epochs1.png')"
      ],
      "execution_count": null,
      "outputs": [
        {
          "output_type": "execute_result",
          "data": {
            "text/plain": [
              "[<matplotlib.lines.Line2D at 0x7fec8684eef0>]"
            ]
          },
          "metadata": {
            "tags": []
          },
          "execution_count": 16
        },
        {
          "output_type": "display_data",
          "data": {
            "image/png": "[encoded data removed]",
            "text/plain": [
              "<Figure size 432x288 with 1 Axes>"
            ]
          },
          "metadata": {
            "tags": [],
            "needs_background": "light"
          }
        }
      ]
    },
    {
      "cell_type": "code",
      "metadata": {
        "id": "BDpy6wOc_fjC",
        "colab": {
          "base_uri": "https://localhost:8080/",
          "height": 282
        },
        "outputId": "1b78a278-7f87-489b-ba79-9217388df1f3"
      },
      "source": [
        "## Add valid plot and colour\n",
        "plt.plot(Valid_count,\"r\")\n",
        "# plt.savefig(r'/content/drive/My Drive/GRU_Valid_loss_'+str(num_epochs)+'_epochs1.png')"
      ],
      "execution_count": null,
      "outputs": [
        {
          "output_type": "execute_result",
          "data": {
            "text/plain": [
              "[<matplotlib.lines.Line2D at 0x7fec87d34780>]"
            ]
          },
          "metadata": {
            "tags": []
          },
          "execution_count": 17
        },
        {
          "output_type": "display_data",
          "data": {
            "image/png": "[encoded data removed]",
            "text/plain": [
              "<Figure size 432x288 with 1 Axes>"
            ]
          },
          "metadata": {
            "tags": [],
            "needs_background": "light"
          }
        }
      ]
    },
    {
      "cell_type": "code",
      "metadata": {
        "id": "CuP2RCqg_h1b",
        "colab": {
          "base_uri": "https://localhost:8080/",
          "height": 282
        },
        "outputId": "f546e169-457d-4ea3-da39-740e5034bad2"
      },
      "source": [
        "## Add valid plot and colour\n",
        "plt.plot(loss_count,\"b\")\n",
        "plt.plot(Valid_count,\"r\")\n",
        "plt.plot(Test_count,\"g\")\n",
        "# plt.savefig(r'/content/drive/My Drive/GRU_Train_Valid_loss_'+str(num_epochs)+'_epochs.png')"
      ],
      "execution_count": null,
      "outputs": [
        {
          "output_type": "execute_result",
          "data": {
            "text/plain": [
              "[<matplotlib.lines.Line2D at 0x7fec70bc2240>]"
            ]
          },
          "metadata": {
            "tags": []
          },
          "execution_count": 18
        },
        {
          "output_type": "display_data",
          "data": {
            "image/png": "[encoded data removed]",
            "text/plain": [
              "<Figure size 432x288 with 1 Axes>"
            ]
          },
          "metadata": {
            "tags": [],
            "needs_background": "light"
          }
        }
      ]
    },
    {
      "cell_type": "code",
      "metadata": {
        "id": "issKf6GriWj3",
        "colab": {
          "base_uri": "https://localhost:8080/"
        },
        "outputId": "c46d451d-edc4-49c8-f671-926e164ec120"
      },
      "source": [
        "## Testing the model for both labels\n",
        "\n",
        "model.eval()\n",
        "\n",
        "test_dataset = PainDataset_Test()\n",
        "test_loader = DataLoader(dataset=test_dataset,batch_size=1,shuffle=False)\n",
        "\n",
        "# Test the model\n",
        "# In test phase, we don't need to compute gradients (for memory efficiency)\n",
        "with torch.no_grad():\n",
        "    n_correct = 0\n",
        "    n_samples = 0\n",
        "    for i,data in enumerate(test_loader, 0):\n",
        "        # print(data)\n",
        "        features, labels = data\n",
        "        features = features.reshape(-1, sequence_length, input_size).to(device)\n",
        "        labels=labels.to(device)\n",
        "        \n",
        "        outputs = model(features)\n",
        "        # print(outputs)\n",
        "        _, predicted = torch.max(outputs.data, 1)\n",
        "        # print('predicted:',predicted, ' Actual label',labels)\n",
        "        # print('labels',labels)\n",
        "        n_samples += labels.size(0)\n",
        "        n_correct += (predicted == labels.long()).sum().item()\n",
        "\n",
        "    acc = 100.0 * n_correct / n_samples\n",
        "    print(f'Accuracy of the network on test data: {acc} %')"
      ],
      "execution_count": null,
      "outputs": [
        {
          "output_type": "stream",
          "text": [
            "/usr/local/lib/python3.6/dist-packages/ipykernel_launcher.py:22: UserWarning: To copy construct from a tensor, it is recommended to use sourceTensor.clone().detach() or sourceTensor.clone().detach().requires_grad_(True), rather than torch.tensor(sourceTensor).\n"
          ],
          "name": "stderr"
        },
        {
          "output_type": "stream",
          "text": [
            "Accuracy of the network on test data: 39.0625 %\n"
          ],
          "name": "stdout"
        }
      ]
    },
    {
      "cell_type": "code",
      "metadata": {
        "id": "cAbQpfHbW-XQ",
        "colab": {
          "base_uri": "https://localhost:8080/"
        },
        "outputId": "5c9db3db-45bc-4076-8725-e5dd80cfa5c9"
      },
      "source": [
        "## Testing the model for both labels\n",
        "\n",
        "model.eval()\n",
        "\n",
        "test_dataset = PainDataset_Train()\n",
        "test_loader = DataLoader(dataset=test_dataset,batch_size=30,shuffle=False)\n",
        "\n",
        "# Test the model\n",
        "# In test phase, we don't need to compute gradients (for memory efficiency)\n",
        "with torch.no_grad():\n",
        "    n_correct = 0\n",
        "    n_samples = 0\n",
        "    for i,data in enumerate(test_loader, 0):\n",
        "        # print(data)\n",
        "        features, labels = data\n",
        "        features = features.reshape(-1, sequence_length, input_size).to(device)\n",
        "        labels=labels.to(device)\n",
        "        \n",
        "        outputs = model(features)\n",
        "        # print(outputs)\n",
        "        _, predicted = torch.max(outputs.data, 1)\n",
        "        # print('predicted',predicted)\n",
        "        # print('labels',labels)\n",
        "        n_samples += labels.size(0)\n",
        "        n_correct += (predicted == labels.long()).sum().item()\n",
        "\n",
        "    acc = 100.0 * n_correct / n_samples\n",
        "    print(f'Accuracy of the network on Train data: {acc} %')"
      ],
      "execution_count": null,
      "outputs": [
        {
          "output_type": "stream",
          "text": [
            "Accuracy of the network on Train data: 44.493882091212456 %\n"
          ],
          "name": "stdout"
        },
        {
          "output_type": "stream",
          "text": [
            "/usr/local/lib/python3.6/dist-packages/ipykernel_launcher.py:26: UserWarning: To copy construct from a tensor, it is recommended to use sourceTensor.clone().detach() or sourceTensor.clone().detach().requires_grad_(True), rather than torch.tensor(sourceTensor).\n"
          ],
          "name": "stderr"
        }
      ]
    },
    {
      "cell_type": "code",
      "metadata": {
        "id": "xgyEDShniWmG"
      },
      "source": [
        "# PATH =r'/content/drive/My Drive/LSTM Pain No Pain (Collab)/Saved_Models/pain_model_GRU_20_epochs__90.41_test_accuracy.pth'\n",
        "# torch.save(model.state_dict(), PATH)"
      ],
      "execution_count": null,
      "outputs": []
    },
    {
      "cell_type": "code",
      "metadata": {
        "id": "-sjsW3e672VR",
        "colab": {
          "base_uri": "https://localhost:8080/"
        },
        "outputId": "2057a3c1-da1c-4be3-ec82-dfa34ece66e6"
      },
      "source": [
        "end = time.time()\n",
        "print('Time taken: ',end - start)"
      ],
      "execution_count": null,
      "outputs": [
        {
          "output_type": "stream",
          "text": [
            "Time taken:  1975.9564445018768\n"
          ],
          "name": "stdout"
        }
      ]
    },
    {
      "cell_type": "code",
      "metadata": {
        "id": "-wkut7W2iWoL"
      },
      "source": [
        "# import pandas as pd"
      ],
      "execution_count": null,
      "outputs": []
    },
    {
      "cell_type": "code",
      "metadata": {
        "id": "GRr37LvUtlRt"
      },
      "source": [
        "# # initialize list of lists \n",
        "# data = [['tom', 10], ['nick', 15], ['juli', 14]] \n",
        "  \n",
        "# # Create the pandas DataFrame \n",
        "# df = pd.DataFrame(data, columns = ['Name', 'Age']) \n",
        "  \n",
        "# # print dataframe. \n",
        "# df "
      ],
      "execution_count": null,
      "outputs": []
    },
    {
      "cell_type": "code",
      "metadata": {
        "id": "tBCWNemhtszm"
      },
      "source": [
        "# a='_test_'\n",
        "# b='_save_'\n",
        "# df.to_csv(r'/content/drive/My Drive/LSTM Pain No Pain (Collab)/Output/sample'+a+b+'.csv', index = False)"
      ],
      "execution_count": null,
      "outputs": []
    },
    {
      "cell_type": "code",
      "metadata": {
        "id": "q1dmyieyuHJe"
      },
      "source": [
        ""
      ],
      "execution_count": null,
      "outputs": []
    }
  ]
}