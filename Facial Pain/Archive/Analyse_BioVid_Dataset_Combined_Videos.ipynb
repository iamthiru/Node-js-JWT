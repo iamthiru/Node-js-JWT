{
 "cells": [
  {
   "cell_type": "code",
   "execution_count": 4,
   "metadata": {},
   "outputs": [],
   "source": [
    "# Import dependencies\n",
    "\n",
    "import pandas as pd\n",
    "import os"
   ]
  },
  {
   "cell_type": "code",
   "execution_count": 26,
   "metadata": {},
   "outputs": [],
   "source": [
    "# Read the combined BioVid file which has been processesed with SUM of AUs, PSPI scores and Human Labels\n",
    "# The file consists of 16 videos out of the BioVid Dataset where the subjects have shown facial pain\n",
    "\n",
    "df=pd.read_csv(r'C:\\Users\\Nischal\\Desktop\\Bio_Vid_Final\\Processed_csv_files\\combined_BioVid_16.csv')"
   ]
  },
  {
   "cell_type": "code",
   "execution_count": 25,
   "metadata": {},
   "outputs": [
    {
     "name": "stdout",
     "output_type": "stream",
     "text": [
      "Mean for Sum of Action Unit score\n",
      "Pain0               Pain1               Pain2              Pain3              Pain4\n",
      "[6.321579919758519, 6.3337785948565815, 6.506261725196899, 7.042132076646805, 8.941579023853514] \n",
      "\n",
      "Mean for PSPI scores\n",
      "Pain0               Pain1               Pain2              Pain3              Pain4\n",
      "[2.406044014534306, 2.361296091252846, 2.3963701506256916, 2.799382382860346, 3.5442664369200108]\n"
     ]
    }
   ],
   "source": [
    "## Computing Mean, Variance and Standard Deviation over the BioVid Dataset\n",
    "\n",
    "Only_0c = df[df.H_LABEL == 0]\n",
    "Only_1c = df[df.H_LABEL == 1]\n",
    "Only_2c = df[df.H_LABEL == 2]\n",
    "Only_3c = df[df.H_LABEL == 3]\n",
    "Only_4c = df[df.H_LABEL == 4]\n",
    "a=[Only_0c[\"SUM_AU_r\"].mean(),Only_1c[\"SUM_AU_r\"].mean(),Only_2c[\"SUM_AU_r\"].mean(),Only_3c[\"SUM_AU_r\"].mean(),Only_4c[\"SUM_AU_r\"].mean()]\n",
    "b=[Only_0c[\"PSPI_score\"].mean(),Only_1c[\"PSPI_score\"].mean(),Only_2c[\"PSPI_score\"].mean(),Only_3c[\"PSPI_score\"].mean(),Only_4c[\"PSPI_score\"].mean()]\n",
    "print(\"Mean for Sum of Action Unit score\")\n",
    "print('Pain0               Pain1               Pain2              Pain3              Pain4')\n",
    "print(a,'\\n')\n",
    "print(\"Mean for PSPI scores\")\n",
    "print('Pain0               Pain1               Pain2              Pain3              Pain4')\n",
    "print(b)"
   ]
  },
  {
   "cell_type": "code",
   "execution_count": 24,
   "metadata": {},
   "outputs": [
    {
     "name": "stdout",
     "output_type": "stream",
     "text": [
      "Variance for Sum of Action Unit score\n",
      "Pain0               Pain1               Pain2              Pain3              Pain4\n",
      "[13.301737670103098, 16.68814762598814, 17.638755915955095, 21.184992979482818, 28.591395496998953] \n",
      "\n",
      "Variance for PSPI scores\n",
      "Pain0               Pain1               Pain2              Pain3              Pain4\n",
      "[3.9563898485416336, 4.592944185653671, 4.845859846523028, 5.374582845995061, 6.753676401439722]\n"
     ]
    }
   ],
   "source": [
    "a=[Only_0c[\"SUM_AU_r\"].var(),Only_1c[\"SUM_AU_r\"].var(),Only_2c[\"SUM_AU_r\"].var(),Only_3c[\"SUM_AU_r\"].var(),Only_4c[\"SUM_AU_r\"].var()]\n",
    "b=[Only_0c[\"PSPI_score\"].var(),Only_1c[\"PSPI_score\"].var(),Only_2c[\"PSPI_score\"].var(),Only_3c[\"PSPI_score\"].var(),Only_4c[\"PSPI_score\"].var()]\n",
    "print(\"Variance for Sum of Action Unit score\")\n",
    "print('Pain0               Pain1               Pain2              Pain3              Pain4')\n",
    "print(a,'\\n')\n",
    "print(\"Variance for PSPI scores\")\n",
    "print('Pain0               Pain1               Pain2              Pain3              Pain4')\n",
    "print(b)"
   ]
  },
  {
   "cell_type": "code",
   "execution_count": 23,
   "metadata": {},
   "outputs": [
    {
     "name": "stdout",
     "output_type": "stream",
     "text": [
      "Standard Deviation for Sum of Action Unit score\n",
      "Pain0               Pain1               Pain2              Pain3              Pain4\n",
      "[3.6471547362434595, 4.085112926956627, 4.199851892145138, 4.602715826496659, 5.347092246913172] \n",
      "\n",
      "Standard Deviation for PSPI scores\n",
      "Pain0               Pain1               Pain2              Pain3              Pain4\n",
      "[1.9890675826983943, 2.143115532502546, 2.201331380442987, 2.3183146563818857, 2.598783638827927]\n"
     ]
    }
   ],
   "source": [
    "a=[Only_0c[\"SUM_AU_r\"].std(),Only_1c[\"SUM_AU_r\"].std(),Only_2c[\"SUM_AU_r\"].std(),Only_3c[\"SUM_AU_r\"].std(),Only_4c[\"SUM_AU_r\"].std()]\n",
    "b=[Only_0c[\"PSPI_score\"].std(),Only_1c[\"PSPI_score\"].std(),Only_2c[\"PSPI_score\"].std(),Only_3c[\"PSPI_score\"].std(),Only_4c[\"PSPI_score\"].std()]\n",
    "print(\"Standard Deviation for Sum of Action Unit score\")\n",
    "print('Pain0               Pain1               Pain2              Pain3              Pain4')\n",
    "print(a,'\\n')\n",
    "print(\"Standard Deviation for PSPI scores\")\n",
    "print('Pain0               Pain1               Pain2              Pain3              Pain4')\n",
    "print(b)"
   ]
  },
  {
   "cell_type": "code",
   "execution_count": null,
   "metadata": {},
   "outputs": [],
   "source": []
  }
 ],
 "metadata": {
  "kernelspec": {
   "display_name": "Python 3",
   "language": "python",
   "name": "python3"
  },
  "language_info": {
   "codemirror_mode": {
    "name": "ipython",
    "version": 3
   },
   "file_extension": ".py",
   "mimetype": "text/x-python",
   "name": "python",
   "nbconvert_exporter": "python",
   "pygments_lexer": "ipython3",
   "version": "3.6.10"
  }
 },
 "nbformat": 4,
 "nbformat_minor": 4
}
